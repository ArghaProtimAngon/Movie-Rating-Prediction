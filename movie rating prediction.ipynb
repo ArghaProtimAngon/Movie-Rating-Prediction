{
  "nbformat": 4,
  "nbformat_minor": 0,
  "metadata": {
    "colab": {
      "provenance": []
    },
    "kernelspec": {
      "name": "python3",
      "display_name": "Python 3"
    },
    "language_info": {
      "name": "python"
    }
  },
  "cells": [
    {
      "cell_type": "markdown",
      "source": [
        "# **Movie Success Prediction**"
      ],
      "metadata": {
        "id": "A5cl4Y-50UZ3"
      }
    },
    {
      "cell_type": "markdown",
      "source": [
        "\n",
        "# **Mount Drive**"
      ],
      "metadata": {
        "id": "VrERZ0K7Y28n"
      }
    },
    {
      "cell_type": "code",
      "source": [
        "from google.colab import drive\n",
        "drive.mount('/content/drive')"
      ],
      "metadata": {
        "id": "6PfXyvkgY14-",
        "colab": {
          "base_uri": "https://localhost:8080/"
        },
        "outputId": "56a5b32f-0635-48a8-e56a-3e4963389b30"
      },
      "execution_count": null,
      "outputs": [
        {
          "output_type": "stream",
          "name": "stdout",
          "text": [
            "Drive already mounted at /content/drive; to attempt to forcibly remount, call drive.mount(\"/content/drive\", force_remount=True).\n"
          ]
        }
      ]
    },
    {
      "cell_type": "markdown",
      "source": [
        "# **Read Dataset: .csv/.xlsx to DataFrame**"
      ],
      "metadata": {
        "id": "DVQLKc9HWNB4"
      }
    },
    {
      "cell_type": "code",
      "execution_count": null,
      "metadata": {
        "id": "pkgI5CnkWBPv"
      },
      "outputs": [],
      "source": [
        "import pandas as pd\n",
        "import numpy as np\n",
        "dataset = pd.read_csv(\"/content/drive/MyDrive/imdb_movies.csv\")"
      ]
    },
    {
      "cell_type": "markdown",
      "source": [
        "# **Dataset Analysis**\n",
        "\n",
        "- shape\n",
        "- columns\n",
        "- head()\n",
        "- sample()\n",
        "- describe()\n",
        "- finding categorical features\n",
        "- checking if any null/nan values\n",
        "- filtering data instances based on indices\n",
        "- filtering data instances based on conditional statements\n"
      ],
      "metadata": {
        "id": "w8fWHqn0W3Ol"
      }
    },
    {
      "cell_type": "code",
      "source": [
        "print(f'The shape of the dataset is {dataset.shape}')"
      ],
      "metadata": {
        "id": "9dMTHcNUXeaQ",
        "colab": {
          "base_uri": "https://localhost:8080/"
        },
        "outputId": "159c5c4b-3944-41dc-e68c-023196545c2f"
      },
      "execution_count": null,
      "outputs": [
        {
          "output_type": "stream",
          "name": "stdout",
          "text": [
            "The shape of the dataset is (10178, 12)\n"
          ]
        }
      ]
    },
    {
      "cell_type": "code",
      "source": [
        "columns = dataset.columns.tolist()\n",
        "print(f'Number of features:{len(columns)}')"
      ],
      "metadata": {
        "colab": {
          "base_uri": "https://localhost:8080/"
        },
        "id": "t1IrmvMG2axa",
        "outputId": "6536d6a1-5cdb-4187-e702-e271cc15e309"
      },
      "execution_count": null,
      "outputs": [
        {
          "output_type": "stream",
          "name": "stdout",
          "text": [
            "Number of features:12\n"
          ]
        }
      ]
    },
    {
      "cell_type": "code",
      "source": [
        "print('The features are:')\n",
        "for i in columns:\n",
        "  print(i)"
      ],
      "metadata": {
        "colab": {
          "base_uri": "https://localhost:8080/"
        },
        "id": "s7IajHtX9r1k",
        "outputId": "0b714c2f-4ef2-45ab-e9f1-26abe4d450b7"
      },
      "execution_count": null,
      "outputs": [
        {
          "output_type": "stream",
          "name": "stdout",
          "text": [
            "The features are:\n",
            "names\n",
            "date_x\n",
            "score\n",
            "genre\n",
            "overview\n",
            "crew\n",
            "orig_title\n",
            "status\n",
            "orig_lang\n",
            "budget_x\n",
            "revenue\n",
            "country\n"
          ]
        }
      ]
    },
    {
      "cell_type": "code",
      "source": [
        "dataset.head(5)"
      ],
      "metadata": {
        "colab": {
          "base_uri": "https://localhost:8080/",
          "height": 466
        },
        "id": "pFK4O4Xy2bIr",
        "outputId": "ee4bb11b-ff81-4877-c759-0d2228e37e25"
      },
      "execution_count": null,
      "outputs": [
        {
          "output_type": "execute_result",
          "data": {
            "text/plain": [
              "                         names       date_x  score  \\\n",
              "0                    Creed III  03/02/2023    73.0   \n",
              "1     Avatar: The Way of Water  12/15/2022    78.0   \n",
              "2  The Super Mario Bros. Movie  04/05/2023    76.0   \n",
              "3                      Mummies  01/05/2023    70.0   \n",
              "4                    Supercell  03/17/2023    61.0   \n",
              "\n",
              "                                           genre  \\\n",
              "0                                  Drama, Action   \n",
              "1             Science Fiction, Adventure, Action   \n",
              "2  Animation, Adventure, Family, Fantasy, Comedy   \n",
              "3  Animation, Comedy, Family, Adventure, Fantasy   \n",
              "4                                         Action   \n",
              "\n",
              "                                            overview  \\\n",
              "0  After dominating the boxing world, Adonis Cree...   \n",
              "1  Set more than a decade after the events of the...   \n",
              "2  While working underground to fix a water main,...   \n",
              "3  Through a series of unfortunate events, three ...   \n",
              "4  Good-hearted teenager William always lived in ...   \n",
              "\n",
              "                                                crew  \\\n",
              "0  Michael B. Jordan, Adonis Creed, Tessa Thompso...   \n",
              "1  Sam Worthington, Jake Sully, Zoe Saldaña, Neyt...   \n",
              "2  Chris Pratt, Mario (voice), Anya Taylor-Joy, P...   \n",
              "3  Óscar Barberán, Thut (voice), Ana Esther Albor...   \n",
              "4  Skeet Ulrich, Roy Cameron, Anne Heche, Dr Quin...   \n",
              "\n",
              "                    orig_title     status            orig_lang     budget_x  \\\n",
              "0                    Creed III   Released              English   75000000.0   \n",
              "1     Avatar: The Way of Water   Released              English  460000000.0   \n",
              "2  The Super Mario Bros. Movie   Released              English  100000000.0   \n",
              "3                       Momias   Released   Spanish, Castilian   12300000.0   \n",
              "4                    Supercell   Released              English   77000000.0   \n",
              "\n",
              "        revenue country  \n",
              "0  2.716167e+08      AU  \n",
              "1  2.316795e+09      AU  \n",
              "2  7.244590e+08      AU  \n",
              "3  3.420000e+07      AU  \n",
              "4  3.409420e+08      US  "
            ],
            "text/html": [
              "\n",
              "  <div id=\"df-1881c8a8-a154-4d01-a373-780f920a9609\" class=\"colab-df-container\">\n",
              "    <div>\n",
              "<style scoped>\n",
              "    .dataframe tbody tr th:only-of-type {\n",
              "        vertical-align: middle;\n",
              "    }\n",
              "\n",
              "    .dataframe tbody tr th {\n",
              "        vertical-align: top;\n",
              "    }\n",
              "\n",
              "    .dataframe thead th {\n",
              "        text-align: right;\n",
              "    }\n",
              "</style>\n",
              "<table border=\"1\" class=\"dataframe\">\n",
              "  <thead>\n",
              "    <tr style=\"text-align: right;\">\n",
              "      <th></th>\n",
              "      <th>names</th>\n",
              "      <th>date_x</th>\n",
              "      <th>score</th>\n",
              "      <th>genre</th>\n",
              "      <th>overview</th>\n",
              "      <th>crew</th>\n",
              "      <th>orig_title</th>\n",
              "      <th>status</th>\n",
              "      <th>orig_lang</th>\n",
              "      <th>budget_x</th>\n",
              "      <th>revenue</th>\n",
              "      <th>country</th>\n",
              "    </tr>\n",
              "  </thead>\n",
              "  <tbody>\n",
              "    <tr>\n",
              "      <th>0</th>\n",
              "      <td>Creed III</td>\n",
              "      <td>03/02/2023</td>\n",
              "      <td>73.0</td>\n",
              "      <td>Drama, Action</td>\n",
              "      <td>After dominating the boxing world, Adonis Cree...</td>\n",
              "      <td>Michael B. Jordan, Adonis Creed, Tessa Thompso...</td>\n",
              "      <td>Creed III</td>\n",
              "      <td>Released</td>\n",
              "      <td>English</td>\n",
              "      <td>75000000.0</td>\n",
              "      <td>2.716167e+08</td>\n",
              "      <td>AU</td>\n",
              "    </tr>\n",
              "    <tr>\n",
              "      <th>1</th>\n",
              "      <td>Avatar: The Way of Water</td>\n",
              "      <td>12/15/2022</td>\n",
              "      <td>78.0</td>\n",
              "      <td>Science Fiction, Adventure, Action</td>\n",
              "      <td>Set more than a decade after the events of the...</td>\n",
              "      <td>Sam Worthington, Jake Sully, Zoe Saldaña, Neyt...</td>\n",
              "      <td>Avatar: The Way of Water</td>\n",
              "      <td>Released</td>\n",
              "      <td>English</td>\n",
              "      <td>460000000.0</td>\n",
              "      <td>2.316795e+09</td>\n",
              "      <td>AU</td>\n",
              "    </tr>\n",
              "    <tr>\n",
              "      <th>2</th>\n",
              "      <td>The Super Mario Bros. Movie</td>\n",
              "      <td>04/05/2023</td>\n",
              "      <td>76.0</td>\n",
              "      <td>Animation, Adventure, Family, Fantasy, Comedy</td>\n",
              "      <td>While working underground to fix a water main,...</td>\n",
              "      <td>Chris Pratt, Mario (voice), Anya Taylor-Joy, P...</td>\n",
              "      <td>The Super Mario Bros. Movie</td>\n",
              "      <td>Released</td>\n",
              "      <td>English</td>\n",
              "      <td>100000000.0</td>\n",
              "      <td>7.244590e+08</td>\n",
              "      <td>AU</td>\n",
              "    </tr>\n",
              "    <tr>\n",
              "      <th>3</th>\n",
              "      <td>Mummies</td>\n",
              "      <td>01/05/2023</td>\n",
              "      <td>70.0</td>\n",
              "      <td>Animation, Comedy, Family, Adventure, Fantasy</td>\n",
              "      <td>Through a series of unfortunate events, three ...</td>\n",
              "      <td>Óscar Barberán, Thut (voice), Ana Esther Albor...</td>\n",
              "      <td>Momias</td>\n",
              "      <td>Released</td>\n",
              "      <td>Spanish, Castilian</td>\n",
              "      <td>12300000.0</td>\n",
              "      <td>3.420000e+07</td>\n",
              "      <td>AU</td>\n",
              "    </tr>\n",
              "    <tr>\n",
              "      <th>4</th>\n",
              "      <td>Supercell</td>\n",
              "      <td>03/17/2023</td>\n",
              "      <td>61.0</td>\n",
              "      <td>Action</td>\n",
              "      <td>Good-hearted teenager William always lived in ...</td>\n",
              "      <td>Skeet Ulrich, Roy Cameron, Anne Heche, Dr Quin...</td>\n",
              "      <td>Supercell</td>\n",
              "      <td>Released</td>\n",
              "      <td>English</td>\n",
              "      <td>77000000.0</td>\n",
              "      <td>3.409420e+08</td>\n",
              "      <td>US</td>\n",
              "    </tr>\n",
              "  </tbody>\n",
              "</table>\n",
              "</div>\n",
              "    <div class=\"colab-df-buttons\">\n",
              "\n",
              "  <div class=\"colab-df-container\">\n",
              "    <button class=\"colab-df-convert\" onclick=\"convertToInteractive('df-1881c8a8-a154-4d01-a373-780f920a9609')\"\n",
              "            title=\"Convert this dataframe to an interactive table.\"\n",
              "            style=\"display:none;\">\n",
              "\n",
              "  <svg xmlns=\"http://www.w3.org/2000/svg\" height=\"24px\" viewBox=\"0 -960 960 960\">\n",
              "    <path d=\"M120-120v-720h720v720H120Zm60-500h600v-160H180v160Zm220 220h160v-160H400v160Zm0 220h160v-160H400v160ZM180-400h160v-160H180v160Zm440 0h160v-160H620v160ZM180-180h160v-160H180v160Zm440 0h160v-160H620v160Z\"/>\n",
              "  </svg>\n",
              "    </button>\n",
              "\n",
              "  <style>\n",
              "    .colab-df-container {\n",
              "      display:flex;\n",
              "      gap: 12px;\n",
              "    }\n",
              "\n",
              "    .colab-df-convert {\n",
              "      background-color: #E8F0FE;\n",
              "      border: none;\n",
              "      border-radius: 50%;\n",
              "      cursor: pointer;\n",
              "      display: none;\n",
              "      fill: #1967D2;\n",
              "      height: 32px;\n",
              "      padding: 0 0 0 0;\n",
              "      width: 32px;\n",
              "    }\n",
              "\n",
              "    .colab-df-convert:hover {\n",
              "      background-color: #E2EBFA;\n",
              "      box-shadow: 0px 1px 2px rgba(60, 64, 67, 0.3), 0px 1px 3px 1px rgba(60, 64, 67, 0.15);\n",
              "      fill: #174EA6;\n",
              "    }\n",
              "\n",
              "    .colab-df-buttons div {\n",
              "      margin-bottom: 4px;\n",
              "    }\n",
              "\n",
              "    [theme=dark] .colab-df-convert {\n",
              "      background-color: #3B4455;\n",
              "      fill: #D2E3FC;\n",
              "    }\n",
              "\n",
              "    [theme=dark] .colab-df-convert:hover {\n",
              "      background-color: #434B5C;\n",
              "      box-shadow: 0px 1px 3px 1px rgba(0, 0, 0, 0.15);\n",
              "      filter: drop-shadow(0px 1px 2px rgba(0, 0, 0, 0.3));\n",
              "      fill: #FFFFFF;\n",
              "    }\n",
              "  </style>\n",
              "\n",
              "    <script>\n",
              "      const buttonEl =\n",
              "        document.querySelector('#df-1881c8a8-a154-4d01-a373-780f920a9609 button.colab-df-convert');\n",
              "      buttonEl.style.display =\n",
              "        google.colab.kernel.accessAllowed ? 'block' : 'none';\n",
              "\n",
              "      async function convertToInteractive(key) {\n",
              "        const element = document.querySelector('#df-1881c8a8-a154-4d01-a373-780f920a9609');\n",
              "        const dataTable =\n",
              "          await google.colab.kernel.invokeFunction('convertToInteractive',\n",
              "                                                    [key], {});\n",
              "        if (!dataTable) return;\n",
              "\n",
              "        const docLinkHtml = 'Like what you see? Visit the ' +\n",
              "          '<a target=\"_blank\" href=https://colab.research.google.com/notebooks/data_table.ipynb>data table notebook</a>'\n",
              "          + ' to learn more about interactive tables.';\n",
              "        element.innerHTML = '';\n",
              "        dataTable['output_type'] = 'display_data';\n",
              "        await google.colab.output.renderOutput(dataTable, element);\n",
              "        const docLink = document.createElement('div');\n",
              "        docLink.innerHTML = docLinkHtml;\n",
              "        element.appendChild(docLink);\n",
              "      }\n",
              "    </script>\n",
              "  </div>\n",
              "\n",
              "\n",
              "<div id=\"df-16606b3d-ec0a-4edb-8ad4-d52c53ac40c1\">\n",
              "  <button class=\"colab-df-quickchart\" onclick=\"quickchart('df-16606b3d-ec0a-4edb-8ad4-d52c53ac40c1')\"\n",
              "            title=\"Suggest charts\"\n",
              "            style=\"display:none;\">\n",
              "\n",
              "<svg xmlns=\"http://www.w3.org/2000/svg\" height=\"24px\"viewBox=\"0 0 24 24\"\n",
              "     width=\"24px\">\n",
              "    <g>\n",
              "        <path d=\"M19 3H5c-1.1 0-2 .9-2 2v14c0 1.1.9 2 2 2h14c1.1 0 2-.9 2-2V5c0-1.1-.9-2-2-2zM9 17H7v-7h2v7zm4 0h-2V7h2v10zm4 0h-2v-4h2v4z\"/>\n",
              "    </g>\n",
              "</svg>\n",
              "  </button>\n",
              "\n",
              "<style>\n",
              "  .colab-df-quickchart {\n",
              "      --bg-color: #E8F0FE;\n",
              "      --fill-color: #1967D2;\n",
              "      --hover-bg-color: #E2EBFA;\n",
              "      --hover-fill-color: #174EA6;\n",
              "      --disabled-fill-color: #AAA;\n",
              "      --disabled-bg-color: #DDD;\n",
              "  }\n",
              "\n",
              "  [theme=dark] .colab-df-quickchart {\n",
              "      --bg-color: #3B4455;\n",
              "      --fill-color: #D2E3FC;\n",
              "      --hover-bg-color: #434B5C;\n",
              "      --hover-fill-color: #FFFFFF;\n",
              "      --disabled-bg-color: #3B4455;\n",
              "      --disabled-fill-color: #666;\n",
              "  }\n",
              "\n",
              "  .colab-df-quickchart {\n",
              "    background-color: var(--bg-color);\n",
              "    border: none;\n",
              "    border-radius: 50%;\n",
              "    cursor: pointer;\n",
              "    display: none;\n",
              "    fill: var(--fill-color);\n",
              "    height: 32px;\n",
              "    padding: 0;\n",
              "    width: 32px;\n",
              "  }\n",
              "\n",
              "  .colab-df-quickchart:hover {\n",
              "    background-color: var(--hover-bg-color);\n",
              "    box-shadow: 0 1px 2px rgba(60, 64, 67, 0.3), 0 1px 3px 1px rgba(60, 64, 67, 0.15);\n",
              "    fill: var(--button-hover-fill-color);\n",
              "  }\n",
              "\n",
              "  .colab-df-quickchart-complete:disabled,\n",
              "  .colab-df-quickchart-complete:disabled:hover {\n",
              "    background-color: var(--disabled-bg-color);\n",
              "    fill: var(--disabled-fill-color);\n",
              "    box-shadow: none;\n",
              "  }\n",
              "\n",
              "  .colab-df-spinner {\n",
              "    border: 2px solid var(--fill-color);\n",
              "    border-color: transparent;\n",
              "    border-bottom-color: var(--fill-color);\n",
              "    animation:\n",
              "      spin 1s steps(1) infinite;\n",
              "  }\n",
              "\n",
              "  @keyframes spin {\n",
              "    0% {\n",
              "      border-color: transparent;\n",
              "      border-bottom-color: var(--fill-color);\n",
              "      border-left-color: var(--fill-color);\n",
              "    }\n",
              "    20% {\n",
              "      border-color: transparent;\n",
              "      border-left-color: var(--fill-color);\n",
              "      border-top-color: var(--fill-color);\n",
              "    }\n",
              "    30% {\n",
              "      border-color: transparent;\n",
              "      border-left-color: var(--fill-color);\n",
              "      border-top-color: var(--fill-color);\n",
              "      border-right-color: var(--fill-color);\n",
              "    }\n",
              "    40% {\n",
              "      border-color: transparent;\n",
              "      border-right-color: var(--fill-color);\n",
              "      border-top-color: var(--fill-color);\n",
              "    }\n",
              "    60% {\n",
              "      border-color: transparent;\n",
              "      border-right-color: var(--fill-color);\n",
              "    }\n",
              "    80% {\n",
              "      border-color: transparent;\n",
              "      border-right-color: var(--fill-color);\n",
              "      border-bottom-color: var(--fill-color);\n",
              "    }\n",
              "    90% {\n",
              "      border-color: transparent;\n",
              "      border-bottom-color: var(--fill-color);\n",
              "    }\n",
              "  }\n",
              "</style>\n",
              "\n",
              "  <script>\n",
              "    async function quickchart(key) {\n",
              "      const quickchartButtonEl =\n",
              "        document.querySelector('#' + key + ' button');\n",
              "      quickchartButtonEl.disabled = true;  // To prevent multiple clicks.\n",
              "      quickchartButtonEl.classList.add('colab-df-spinner');\n",
              "      try {\n",
              "        const charts = await google.colab.kernel.invokeFunction(\n",
              "            'suggestCharts', [key], {});\n",
              "      } catch (error) {\n",
              "        console.error('Error during call to suggestCharts:', error);\n",
              "      }\n",
              "      quickchartButtonEl.classList.remove('colab-df-spinner');\n",
              "      quickchartButtonEl.classList.add('colab-df-quickchart-complete');\n",
              "    }\n",
              "    (() => {\n",
              "      let quickchartButtonEl =\n",
              "        document.querySelector('#df-16606b3d-ec0a-4edb-8ad4-d52c53ac40c1 button');\n",
              "      quickchartButtonEl.style.display =\n",
              "        google.colab.kernel.accessAllowed ? 'block' : 'none';\n",
              "    })();\n",
              "  </script>\n",
              "</div>\n",
              "    </div>\n",
              "  </div>\n"
            ],
            "application/vnd.google.colaboratory.intrinsic+json": {
              "type": "dataframe",
              "variable_name": "dataset",
              "summary": "{\n  \"name\": \"dataset\",\n  \"rows\": 10178,\n  \"fields\": [\n    {\n      \"column\": \"names\",\n      \"properties\": {\n        \"dtype\": \"string\",\n        \"num_unique_values\": 9660,\n        \"samples\": [\n          \"Dragonheart 3: The Sorcerer's Curse\",\n          \"You Again\",\n          \"Time Trap\"\n        ],\n        \"semantic_type\": \"\",\n        \"description\": \"\"\n      }\n    },\n    {\n      \"column\": \"date_x\",\n      \"properties\": {\n        \"dtype\": \"object\",\n        \"num_unique_values\": 5688,\n        \"samples\": [\n          \"04/09/1987 \",\n          \"12/01/1988 \",\n          \"09/15/2017 \"\n        ],\n        \"semantic_type\": \"\",\n        \"description\": \"\"\n      }\n    },\n    {\n      \"column\": \"score\",\n      \"properties\": {\n        \"dtype\": \"number\",\n        \"std\": 13.53701236247774,\n        \"min\": 0.0,\n        \"max\": 100.0,\n        \"num_unique_values\": 79,\n        \"samples\": [\n          43.0,\n          73.0,\n          54.0\n        ],\n        \"semantic_type\": \"\",\n        \"description\": \"\"\n      }\n    },\n    {\n      \"column\": \"genre\",\n      \"properties\": {\n        \"dtype\": \"category\",\n        \"num_unique_values\": 2303,\n        \"samples\": [\n          \"Horror,\\u00a0Drama,\\u00a0Thriller,\\u00a0Fantasy\",\n          \"Fantasy,\\u00a0Horror,\\u00a0Thriller,\\u00a0Drama\",\n          \"Animation,\\u00a0Family,\\u00a0Comedy,\\u00a0Science Fiction,\\u00a0Adventure\"\n        ],\n        \"semantic_type\": \"\",\n        \"description\": \"\"\n      }\n    },\n    {\n      \"column\": \"overview\",\n      \"properties\": {\n        \"dtype\": \"string\",\n        \"num_unique_values\": 9905,\n        \"samples\": [\n          \"Nick Hume is a mild-mannered executive with a perfect life, until one gruesome night he witnesses something that changes him forever. Transformed by grief, Hume eventually comes to the disturbing conclusion that no length is too great when protecting his family.\",\n          \"Control \\u2014 the Commonwealth's covert ops group \\u2014 suspects a double agent within the Kingdom's royal family and dispatches Ange and the rest of \\\"Team White Pigeon\\\" to discover the truth.  The first chapter of six-part film sequels for Princess Principal series.\",\n          \"A rich woman is losing her attractiveness and longs for passion with her husband, who is having an affair with his younger and more attractive masseuse. In order to boost her image, she seeks out the help of a local chef, who cooks some special dumplings which she are claimed to be effective for rejuvenation, but these dumplings hide a terrible secret.\"\n        ],\n        \"semantic_type\": \"\",\n        \"description\": \"\"\n      }\n    },\n    {\n      \"column\": \"crew\",\n      \"properties\": {\n        \"dtype\": \"string\",\n        \"num_unique_values\": 9927,\n        \"samples\": [\n          \"Ed Skrein, Frank Martin Jr., Ray Stevenson, Frank Martin Sr., Loan Chabanol, Anna, Gabriella Wright, Gina, Tatiana Pajkovi\\u0107, Maria, Wenxia Yu, Qiao, Radivoje Bukvi\\u0107, Arkady Karasov, No\\u00e9mie Lenoir, Ma\\u00efssa, Yuri Kolokolnikov, Yuri\",\n          \"Harrison Ford, President James Marshall, Gary Oldman, Ivan Korshunov, Glenn Close, Vice President Kathryn Bennett, Wendy Crewson, Grace Marshall, Liesel Matthews, Alice Marshall, Paul Guilfoyle, Chief of Staff Lloyd 'Shep' Shepherd, Xander Berkeley, Secret Service Agent Gibbs, William H. Macy, Major Caldwell, Dean Stockwell, Defense Secretary Walter Dean\",\n          \"Burl Ives, Sam the Snowman (voice), Billie Mae Richards, Rudolph (voice), Larry D. Mann, Yukon Cornelius (voice), Stan Francis, Santa Claus / King Moonracer (voice), Paul Kligman, Donner / Clarice's Father / Comet the Coach (voice), Janis Orenstein, Clarice (voice), Alfie Scopp, Charlie-in-the-Box / Other Reindeer (voice), Carl Banas, Head Elf / Spotted Elephant / Other Toys (voice), Peg Dixon, Mrs. Donner / Others (voice)\"\n        ],\n        \"semantic_type\": \"\",\n        \"description\": \"\"\n      }\n    },\n    {\n      \"column\": \"orig_title\",\n      \"properties\": {\n        \"dtype\": \"string\",\n        \"num_unique_values\": 9736,\n        \"samples\": [\n          \"Source Code\",\n          \"In the Name of the King 2: Two Worlds\",\n          \"Proud Mary\"\n        ],\n        \"semantic_type\": \"\",\n        \"description\": \"\"\n      }\n    },\n    {\n      \"column\": \"status\",\n      \"properties\": {\n        \"dtype\": \"category\",\n        \"num_unique_values\": 3,\n        \"samples\": [\n          \" Released\",\n          \" Post Production\",\n          \" In Production\"\n        ],\n        \"semantic_type\": \"\",\n        \"description\": \"\"\n      }\n    },\n    {\n      \"column\": \"orig_lang\",\n      \"properties\": {\n        \"dtype\": \"category\",\n        \"num_unique_values\": 54,\n        \"samples\": [\n          \" Danish\",\n          \" Kannada\",\n          \" Gujarati\"\n        ],\n        \"semantic_type\": \"\",\n        \"description\": \"\"\n      }\n    },\n    {\n      \"column\": \"budget_x\",\n      \"properties\": {\n        \"dtype\": \"number\",\n        \"std\": 57075645.27528779,\n        \"min\": 1.0,\n        \"max\": 460000000.0,\n        \"num_unique_values\": 2316,\n        \"samples\": [\n          76104000.0,\n          129800000.0,\n          103600000.0\n        ],\n        \"semantic_type\": \"\",\n        \"description\": \"\"\n      }\n    },\n    {\n      \"column\": \"revenue\",\n      \"properties\": {\n        \"dtype\": \"number\",\n        \"std\": 277788048.7815638,\n        \"min\": 0.0,\n        \"max\": 2923706026.0,\n        \"num_unique_values\": 8227,\n        \"samples\": [\n          110521733.0,\n          162759437.0,\n          14343976.0\n        ],\n        \"semantic_type\": \"\",\n        \"description\": \"\"\n      }\n    },\n    {\n      \"column\": \"country\",\n      \"properties\": {\n        \"dtype\": \"category\",\n        \"num_unique_values\": 60,\n        \"samples\": [\n          \"AU\",\n          \"NO\",\n          \"IE\"\n        ],\n        \"semantic_type\": \"\",\n        \"description\": \"\"\n      }\n    }\n  ]\n}"
            }
          },
          "metadata": {},
          "execution_count": 366
        }
      ]
    },
    {
      "cell_type": "code",
      "source": [
        "dataset.sample(5)"
      ],
      "metadata": {
        "colab": {
          "base_uri": "https://localhost:8080/",
          "height": 379
        },
        "id": "WN2Db8Mr2bLB",
        "outputId": "4b8da562-4933-499b-e913-e8feebca0d4a"
      },
      "execution_count": null,
      "outputs": [
        {
          "output_type": "execute_result",
          "data": {
            "text/plain": [
              "                                        names       date_x  score  \\\n",
              "2829                         We Were Soldiers  04/25/2002    71.0   \n",
              "5372                           The Specialist  02/26/1995    59.0   \n",
              "5094  Giving Hope: The Ni'cola Mitchell Story  04/09/2023     0.0   \n",
              "485                                 Inception  07/22/2010    84.0   \n",
              "5743                               Detachment  04/24/2011    76.0   \n",
              "\n",
              "                                   genre  \\\n",
              "2829                Action, History, War   \n",
              "5372                    Action, Thriller   \n",
              "5094              Drama, Crime, TV Movie   \n",
              "485   Action, Science Fiction, Adventure   \n",
              "5743                               Drama   \n",
              "\n",
              "                                               overview  \\\n",
              "2829  The story of the first major battle of the Ame...   \n",
              "5372  May Munro is a woman obsessed with getting rev...   \n",
              "5094  The story of Ni'cola Mitchell, a victim of uns...   \n",
              "485   Cobb, a skilled thief who commits corporate es...   \n",
              "5743  A chronicle of three weeks in the lives of sev...   \n",
              "\n",
              "                                                   crew  \\\n",
              "2829  Mel Gibson, Lt. Col. Hal Moore, Greg Kinnear, ...   \n",
              "5372  Sylvester Stallone, Ray Quick, Sharon Stone, M...   \n",
              "5094  Tatyana Ali, Ni'cola Mitchell, Kudakwashe Rute...   \n",
              "485   Leonardo DiCaprio, Dom Cobb, Joseph Gordon-Lev...   \n",
              "5743  Adrien Brody, Henry Barthes, Sami Gayle, Erica...   \n",
              "\n",
              "                                   orig_title     status orig_lang  \\\n",
              "2829                         We Were Soldiers   Released   English   \n",
              "5372                           The Specialist   Released   English   \n",
              "5094  Giving Hope: The Ni'cola Mitchell Story   Released   English   \n",
              "485                                 Inception   Released   English   \n",
              "5743                               Detachment   Released   English   \n",
              "\n",
              "         budget_x      revenue country  \n",
              "2829   70000000.0  114658262.0      AU  \n",
              "5372   45000000.0  170362581.0      AU  \n",
              "5094  199600000.0  175269998.8      US  \n",
              "485   160000000.0  728537960.0      AU  \n",
              "5743    5389600.0    1681521.0      AU  "
            ],
            "text/html": [
              "\n",
              "  <div id=\"df-6c4ccea5-2fdf-4302-a56f-c564650390db\" class=\"colab-df-container\">\n",
              "    <div>\n",
              "<style scoped>\n",
              "    .dataframe tbody tr th:only-of-type {\n",
              "        vertical-align: middle;\n",
              "    }\n",
              "\n",
              "    .dataframe tbody tr th {\n",
              "        vertical-align: top;\n",
              "    }\n",
              "\n",
              "    .dataframe thead th {\n",
              "        text-align: right;\n",
              "    }\n",
              "</style>\n",
              "<table border=\"1\" class=\"dataframe\">\n",
              "  <thead>\n",
              "    <tr style=\"text-align: right;\">\n",
              "      <th></th>\n",
              "      <th>names</th>\n",
              "      <th>date_x</th>\n",
              "      <th>score</th>\n",
              "      <th>genre</th>\n",
              "      <th>overview</th>\n",
              "      <th>crew</th>\n",
              "      <th>orig_title</th>\n",
              "      <th>status</th>\n",
              "      <th>orig_lang</th>\n",
              "      <th>budget_x</th>\n",
              "      <th>revenue</th>\n",
              "      <th>country</th>\n",
              "    </tr>\n",
              "  </thead>\n",
              "  <tbody>\n",
              "    <tr>\n",
              "      <th>2829</th>\n",
              "      <td>We Were Soldiers</td>\n",
              "      <td>04/25/2002</td>\n",
              "      <td>71.0</td>\n",
              "      <td>Action, History, War</td>\n",
              "      <td>The story of the first major battle of the Ame...</td>\n",
              "      <td>Mel Gibson, Lt. Col. Hal Moore, Greg Kinnear, ...</td>\n",
              "      <td>We Were Soldiers</td>\n",
              "      <td>Released</td>\n",
              "      <td>English</td>\n",
              "      <td>70000000.0</td>\n",
              "      <td>114658262.0</td>\n",
              "      <td>AU</td>\n",
              "    </tr>\n",
              "    <tr>\n",
              "      <th>5372</th>\n",
              "      <td>The Specialist</td>\n",
              "      <td>02/26/1995</td>\n",
              "      <td>59.0</td>\n",
              "      <td>Action, Thriller</td>\n",
              "      <td>May Munro is a woman obsessed with getting rev...</td>\n",
              "      <td>Sylvester Stallone, Ray Quick, Sharon Stone, M...</td>\n",
              "      <td>The Specialist</td>\n",
              "      <td>Released</td>\n",
              "      <td>English</td>\n",
              "      <td>45000000.0</td>\n",
              "      <td>170362581.0</td>\n",
              "      <td>AU</td>\n",
              "    </tr>\n",
              "    <tr>\n",
              "      <th>5094</th>\n",
              "      <td>Giving Hope: The Ni'cola Mitchell Story</td>\n",
              "      <td>04/09/2023</td>\n",
              "      <td>0.0</td>\n",
              "      <td>Drama, Crime, TV Movie</td>\n",
              "      <td>The story of Ni'cola Mitchell, a victim of uns...</td>\n",
              "      <td>Tatyana Ali, Ni'cola Mitchell, Kudakwashe Rute...</td>\n",
              "      <td>Giving Hope: The Ni'cola Mitchell Story</td>\n",
              "      <td>Released</td>\n",
              "      <td>English</td>\n",
              "      <td>199600000.0</td>\n",
              "      <td>175269998.8</td>\n",
              "      <td>US</td>\n",
              "    </tr>\n",
              "    <tr>\n",
              "      <th>485</th>\n",
              "      <td>Inception</td>\n",
              "      <td>07/22/2010</td>\n",
              "      <td>84.0</td>\n",
              "      <td>Action, Science Fiction, Adventure</td>\n",
              "      <td>Cobb, a skilled thief who commits corporate es...</td>\n",
              "      <td>Leonardo DiCaprio, Dom Cobb, Joseph Gordon-Lev...</td>\n",
              "      <td>Inception</td>\n",
              "      <td>Released</td>\n",
              "      <td>English</td>\n",
              "      <td>160000000.0</td>\n",
              "      <td>728537960.0</td>\n",
              "      <td>AU</td>\n",
              "    </tr>\n",
              "    <tr>\n",
              "      <th>5743</th>\n",
              "      <td>Detachment</td>\n",
              "      <td>04/24/2011</td>\n",
              "      <td>76.0</td>\n",
              "      <td>Drama</td>\n",
              "      <td>A chronicle of three weeks in the lives of sev...</td>\n",
              "      <td>Adrien Brody, Henry Barthes, Sami Gayle, Erica...</td>\n",
              "      <td>Detachment</td>\n",
              "      <td>Released</td>\n",
              "      <td>English</td>\n",
              "      <td>5389600.0</td>\n",
              "      <td>1681521.0</td>\n",
              "      <td>AU</td>\n",
              "    </tr>\n",
              "  </tbody>\n",
              "</table>\n",
              "</div>\n",
              "    <div class=\"colab-df-buttons\">\n",
              "\n",
              "  <div class=\"colab-df-container\">\n",
              "    <button class=\"colab-df-convert\" onclick=\"convertToInteractive('df-6c4ccea5-2fdf-4302-a56f-c564650390db')\"\n",
              "            title=\"Convert this dataframe to an interactive table.\"\n",
              "            style=\"display:none;\">\n",
              "\n",
              "  <svg xmlns=\"http://www.w3.org/2000/svg\" height=\"24px\" viewBox=\"0 -960 960 960\">\n",
              "    <path d=\"M120-120v-720h720v720H120Zm60-500h600v-160H180v160Zm220 220h160v-160H400v160Zm0 220h160v-160H400v160ZM180-400h160v-160H180v160Zm440 0h160v-160H620v160ZM180-180h160v-160H180v160Zm440 0h160v-160H620v160Z\"/>\n",
              "  </svg>\n",
              "    </button>\n",
              "\n",
              "  <style>\n",
              "    .colab-df-container {\n",
              "      display:flex;\n",
              "      gap: 12px;\n",
              "    }\n",
              "\n",
              "    .colab-df-convert {\n",
              "      background-color: #E8F0FE;\n",
              "      border: none;\n",
              "      border-radius: 50%;\n",
              "      cursor: pointer;\n",
              "      display: none;\n",
              "      fill: #1967D2;\n",
              "      height: 32px;\n",
              "      padding: 0 0 0 0;\n",
              "      width: 32px;\n",
              "    }\n",
              "\n",
              "    .colab-df-convert:hover {\n",
              "      background-color: #E2EBFA;\n",
              "      box-shadow: 0px 1px 2px rgba(60, 64, 67, 0.3), 0px 1px 3px 1px rgba(60, 64, 67, 0.15);\n",
              "      fill: #174EA6;\n",
              "    }\n",
              "\n",
              "    .colab-df-buttons div {\n",
              "      margin-bottom: 4px;\n",
              "    }\n",
              "\n",
              "    [theme=dark] .colab-df-convert {\n",
              "      background-color: #3B4455;\n",
              "      fill: #D2E3FC;\n",
              "    }\n",
              "\n",
              "    [theme=dark] .colab-df-convert:hover {\n",
              "      background-color: #434B5C;\n",
              "      box-shadow: 0px 1px 3px 1px rgba(0, 0, 0, 0.15);\n",
              "      filter: drop-shadow(0px 1px 2px rgba(0, 0, 0, 0.3));\n",
              "      fill: #FFFFFF;\n",
              "    }\n",
              "  </style>\n",
              "\n",
              "    <script>\n",
              "      const buttonEl =\n",
              "        document.querySelector('#df-6c4ccea5-2fdf-4302-a56f-c564650390db button.colab-df-convert');\n",
              "      buttonEl.style.display =\n",
              "        google.colab.kernel.accessAllowed ? 'block' : 'none';\n",
              "\n",
              "      async function convertToInteractive(key) {\n",
              "        const element = document.querySelector('#df-6c4ccea5-2fdf-4302-a56f-c564650390db');\n",
              "        const dataTable =\n",
              "          await google.colab.kernel.invokeFunction('convertToInteractive',\n",
              "                                                    [key], {});\n",
              "        if (!dataTable) return;\n",
              "\n",
              "        const docLinkHtml = 'Like what you see? Visit the ' +\n",
              "          '<a target=\"_blank\" href=https://colab.research.google.com/notebooks/data_table.ipynb>data table notebook</a>'\n",
              "          + ' to learn more about interactive tables.';\n",
              "        element.innerHTML = '';\n",
              "        dataTable['output_type'] = 'display_data';\n",
              "        await google.colab.output.renderOutput(dataTable, element);\n",
              "        const docLink = document.createElement('div');\n",
              "        docLink.innerHTML = docLinkHtml;\n",
              "        element.appendChild(docLink);\n",
              "      }\n",
              "    </script>\n",
              "  </div>\n",
              "\n",
              "\n",
              "<div id=\"df-e7dc0742-2b9e-40a2-b44d-3649e500cd78\">\n",
              "  <button class=\"colab-df-quickchart\" onclick=\"quickchart('df-e7dc0742-2b9e-40a2-b44d-3649e500cd78')\"\n",
              "            title=\"Suggest charts\"\n",
              "            style=\"display:none;\">\n",
              "\n",
              "<svg xmlns=\"http://www.w3.org/2000/svg\" height=\"24px\"viewBox=\"0 0 24 24\"\n",
              "     width=\"24px\">\n",
              "    <g>\n",
              "        <path d=\"M19 3H5c-1.1 0-2 .9-2 2v14c0 1.1.9 2 2 2h14c1.1 0 2-.9 2-2V5c0-1.1-.9-2-2-2zM9 17H7v-7h2v7zm4 0h-2V7h2v10zm4 0h-2v-4h2v4z\"/>\n",
              "    </g>\n",
              "</svg>\n",
              "  </button>\n",
              "\n",
              "<style>\n",
              "  .colab-df-quickchart {\n",
              "      --bg-color: #E8F0FE;\n",
              "      --fill-color: #1967D2;\n",
              "      --hover-bg-color: #E2EBFA;\n",
              "      --hover-fill-color: #174EA6;\n",
              "      --disabled-fill-color: #AAA;\n",
              "      --disabled-bg-color: #DDD;\n",
              "  }\n",
              "\n",
              "  [theme=dark] .colab-df-quickchart {\n",
              "      --bg-color: #3B4455;\n",
              "      --fill-color: #D2E3FC;\n",
              "      --hover-bg-color: #434B5C;\n",
              "      --hover-fill-color: #FFFFFF;\n",
              "      --disabled-bg-color: #3B4455;\n",
              "      --disabled-fill-color: #666;\n",
              "  }\n",
              "\n",
              "  .colab-df-quickchart {\n",
              "    background-color: var(--bg-color);\n",
              "    border: none;\n",
              "    border-radius: 50%;\n",
              "    cursor: pointer;\n",
              "    display: none;\n",
              "    fill: var(--fill-color);\n",
              "    height: 32px;\n",
              "    padding: 0;\n",
              "    width: 32px;\n",
              "  }\n",
              "\n",
              "  .colab-df-quickchart:hover {\n",
              "    background-color: var(--hover-bg-color);\n",
              "    box-shadow: 0 1px 2px rgba(60, 64, 67, 0.3), 0 1px 3px 1px rgba(60, 64, 67, 0.15);\n",
              "    fill: var(--button-hover-fill-color);\n",
              "  }\n",
              "\n",
              "  .colab-df-quickchart-complete:disabled,\n",
              "  .colab-df-quickchart-complete:disabled:hover {\n",
              "    background-color: var(--disabled-bg-color);\n",
              "    fill: var(--disabled-fill-color);\n",
              "    box-shadow: none;\n",
              "  }\n",
              "\n",
              "  .colab-df-spinner {\n",
              "    border: 2px solid var(--fill-color);\n",
              "    border-color: transparent;\n",
              "    border-bottom-color: var(--fill-color);\n",
              "    animation:\n",
              "      spin 1s steps(1) infinite;\n",
              "  }\n",
              "\n",
              "  @keyframes spin {\n",
              "    0% {\n",
              "      border-color: transparent;\n",
              "      border-bottom-color: var(--fill-color);\n",
              "      border-left-color: var(--fill-color);\n",
              "    }\n",
              "    20% {\n",
              "      border-color: transparent;\n",
              "      border-left-color: var(--fill-color);\n",
              "      border-top-color: var(--fill-color);\n",
              "    }\n",
              "    30% {\n",
              "      border-color: transparent;\n",
              "      border-left-color: var(--fill-color);\n",
              "      border-top-color: var(--fill-color);\n",
              "      border-right-color: var(--fill-color);\n",
              "    }\n",
              "    40% {\n",
              "      border-color: transparent;\n",
              "      border-right-color: var(--fill-color);\n",
              "      border-top-color: var(--fill-color);\n",
              "    }\n",
              "    60% {\n",
              "      border-color: transparent;\n",
              "      border-right-color: var(--fill-color);\n",
              "    }\n",
              "    80% {\n",
              "      border-color: transparent;\n",
              "      border-right-color: var(--fill-color);\n",
              "      border-bottom-color: var(--fill-color);\n",
              "    }\n",
              "    90% {\n",
              "      border-color: transparent;\n",
              "      border-bottom-color: var(--fill-color);\n",
              "    }\n",
              "  }\n",
              "</style>\n",
              "\n",
              "  <script>\n",
              "    async function quickchart(key) {\n",
              "      const quickchartButtonEl =\n",
              "        document.querySelector('#' + key + ' button');\n",
              "      quickchartButtonEl.disabled = true;  // To prevent multiple clicks.\n",
              "      quickchartButtonEl.classList.add('colab-df-spinner');\n",
              "      try {\n",
              "        const charts = await google.colab.kernel.invokeFunction(\n",
              "            'suggestCharts', [key], {});\n",
              "      } catch (error) {\n",
              "        console.error('Error during call to suggestCharts:', error);\n",
              "      }\n",
              "      quickchartButtonEl.classList.remove('colab-df-spinner');\n",
              "      quickchartButtonEl.classList.add('colab-df-quickchart-complete');\n",
              "    }\n",
              "    (() => {\n",
              "      let quickchartButtonEl =\n",
              "        document.querySelector('#df-e7dc0742-2b9e-40a2-b44d-3649e500cd78 button');\n",
              "      quickchartButtonEl.style.display =\n",
              "        google.colab.kernel.accessAllowed ? 'block' : 'none';\n",
              "    })();\n",
              "  </script>\n",
              "</div>\n",
              "    </div>\n",
              "  </div>\n"
            ],
            "application/vnd.google.colaboratory.intrinsic+json": {
              "type": "dataframe",
              "repr_error": "0"
            }
          },
          "metadata": {},
          "execution_count": 367
        }
      ]
    },
    {
      "cell_type": "code",
      "source": [
        "dataset.describe()"
      ],
      "metadata": {
        "colab": {
          "base_uri": "https://localhost:8080/",
          "height": 300
        },
        "id": "2QthV7GM2bOo",
        "outputId": "207a9d02-7ce3-4bf9-a660-f2bd96616b26"
      },
      "execution_count": null,
      "outputs": [
        {
          "output_type": "execute_result",
          "data": {
            "text/plain": [
              "              score      budget_x       revenue\n",
              "count  10178.000000  1.017800e+04  1.017800e+04\n",
              "mean      63.497052  6.488238e+07  2.531401e+08\n",
              "std       13.537012  5.707565e+07  2.777880e+08\n",
              "min        0.000000  1.000000e+00  0.000000e+00\n",
              "25%       59.000000  1.500000e+07  2.858898e+07\n",
              "50%       65.000000  5.000000e+07  1.529349e+08\n",
              "75%       71.000000  1.050000e+08  4.178021e+08\n",
              "max      100.000000  4.600000e+08  2.923706e+09"
            ],
            "text/html": [
              "\n",
              "  <div id=\"df-034460d7-4182-4b4a-933a-59178b6cc720\" class=\"colab-df-container\">\n",
              "    <div>\n",
              "<style scoped>\n",
              "    .dataframe tbody tr th:only-of-type {\n",
              "        vertical-align: middle;\n",
              "    }\n",
              "\n",
              "    .dataframe tbody tr th {\n",
              "        vertical-align: top;\n",
              "    }\n",
              "\n",
              "    .dataframe thead th {\n",
              "        text-align: right;\n",
              "    }\n",
              "</style>\n",
              "<table border=\"1\" class=\"dataframe\">\n",
              "  <thead>\n",
              "    <tr style=\"text-align: right;\">\n",
              "      <th></th>\n",
              "      <th>score</th>\n",
              "      <th>budget_x</th>\n",
              "      <th>revenue</th>\n",
              "    </tr>\n",
              "  </thead>\n",
              "  <tbody>\n",
              "    <tr>\n",
              "      <th>count</th>\n",
              "      <td>10178.000000</td>\n",
              "      <td>1.017800e+04</td>\n",
              "      <td>1.017800e+04</td>\n",
              "    </tr>\n",
              "    <tr>\n",
              "      <th>mean</th>\n",
              "      <td>63.497052</td>\n",
              "      <td>6.488238e+07</td>\n",
              "      <td>2.531401e+08</td>\n",
              "    </tr>\n",
              "    <tr>\n",
              "      <th>std</th>\n",
              "      <td>13.537012</td>\n",
              "      <td>5.707565e+07</td>\n",
              "      <td>2.777880e+08</td>\n",
              "    </tr>\n",
              "    <tr>\n",
              "      <th>min</th>\n",
              "      <td>0.000000</td>\n",
              "      <td>1.000000e+00</td>\n",
              "      <td>0.000000e+00</td>\n",
              "    </tr>\n",
              "    <tr>\n",
              "      <th>25%</th>\n",
              "      <td>59.000000</td>\n",
              "      <td>1.500000e+07</td>\n",
              "      <td>2.858898e+07</td>\n",
              "    </tr>\n",
              "    <tr>\n",
              "      <th>50%</th>\n",
              "      <td>65.000000</td>\n",
              "      <td>5.000000e+07</td>\n",
              "      <td>1.529349e+08</td>\n",
              "    </tr>\n",
              "    <tr>\n",
              "      <th>75%</th>\n",
              "      <td>71.000000</td>\n",
              "      <td>1.050000e+08</td>\n",
              "      <td>4.178021e+08</td>\n",
              "    </tr>\n",
              "    <tr>\n",
              "      <th>max</th>\n",
              "      <td>100.000000</td>\n",
              "      <td>4.600000e+08</td>\n",
              "      <td>2.923706e+09</td>\n",
              "    </tr>\n",
              "  </tbody>\n",
              "</table>\n",
              "</div>\n",
              "    <div class=\"colab-df-buttons\">\n",
              "\n",
              "  <div class=\"colab-df-container\">\n",
              "    <button class=\"colab-df-convert\" onclick=\"convertToInteractive('df-034460d7-4182-4b4a-933a-59178b6cc720')\"\n",
              "            title=\"Convert this dataframe to an interactive table.\"\n",
              "            style=\"display:none;\">\n",
              "\n",
              "  <svg xmlns=\"http://www.w3.org/2000/svg\" height=\"24px\" viewBox=\"0 -960 960 960\">\n",
              "    <path d=\"M120-120v-720h720v720H120Zm60-500h600v-160H180v160Zm220 220h160v-160H400v160Zm0 220h160v-160H400v160ZM180-400h160v-160H180v160Zm440 0h160v-160H620v160ZM180-180h160v-160H180v160Zm440 0h160v-160H620v160Z\"/>\n",
              "  </svg>\n",
              "    </button>\n",
              "\n",
              "  <style>\n",
              "    .colab-df-container {\n",
              "      display:flex;\n",
              "      gap: 12px;\n",
              "    }\n",
              "\n",
              "    .colab-df-convert {\n",
              "      background-color: #E8F0FE;\n",
              "      border: none;\n",
              "      border-radius: 50%;\n",
              "      cursor: pointer;\n",
              "      display: none;\n",
              "      fill: #1967D2;\n",
              "      height: 32px;\n",
              "      padding: 0 0 0 0;\n",
              "      width: 32px;\n",
              "    }\n",
              "\n",
              "    .colab-df-convert:hover {\n",
              "      background-color: #E2EBFA;\n",
              "      box-shadow: 0px 1px 2px rgba(60, 64, 67, 0.3), 0px 1px 3px 1px rgba(60, 64, 67, 0.15);\n",
              "      fill: #174EA6;\n",
              "    }\n",
              "\n",
              "    .colab-df-buttons div {\n",
              "      margin-bottom: 4px;\n",
              "    }\n",
              "\n",
              "    [theme=dark] .colab-df-convert {\n",
              "      background-color: #3B4455;\n",
              "      fill: #D2E3FC;\n",
              "    }\n",
              "\n",
              "    [theme=dark] .colab-df-convert:hover {\n",
              "      background-color: #434B5C;\n",
              "      box-shadow: 0px 1px 3px 1px rgba(0, 0, 0, 0.15);\n",
              "      filter: drop-shadow(0px 1px 2px rgba(0, 0, 0, 0.3));\n",
              "      fill: #FFFFFF;\n",
              "    }\n",
              "  </style>\n",
              "\n",
              "    <script>\n",
              "      const buttonEl =\n",
              "        document.querySelector('#df-034460d7-4182-4b4a-933a-59178b6cc720 button.colab-df-convert');\n",
              "      buttonEl.style.display =\n",
              "        google.colab.kernel.accessAllowed ? 'block' : 'none';\n",
              "\n",
              "      async function convertToInteractive(key) {\n",
              "        const element = document.querySelector('#df-034460d7-4182-4b4a-933a-59178b6cc720');\n",
              "        const dataTable =\n",
              "          await google.colab.kernel.invokeFunction('convertToInteractive',\n",
              "                                                    [key], {});\n",
              "        if (!dataTable) return;\n",
              "\n",
              "        const docLinkHtml = 'Like what you see? Visit the ' +\n",
              "          '<a target=\"_blank\" href=https://colab.research.google.com/notebooks/data_table.ipynb>data table notebook</a>'\n",
              "          + ' to learn more about interactive tables.';\n",
              "        element.innerHTML = '';\n",
              "        dataTable['output_type'] = 'display_data';\n",
              "        await google.colab.output.renderOutput(dataTable, element);\n",
              "        const docLink = document.createElement('div');\n",
              "        docLink.innerHTML = docLinkHtml;\n",
              "        element.appendChild(docLink);\n",
              "      }\n",
              "    </script>\n",
              "  </div>\n",
              "\n",
              "\n",
              "<div id=\"df-3efb054c-b3a5-4954-83ae-91e889c439d0\">\n",
              "  <button class=\"colab-df-quickchart\" onclick=\"quickchart('df-3efb054c-b3a5-4954-83ae-91e889c439d0')\"\n",
              "            title=\"Suggest charts\"\n",
              "            style=\"display:none;\">\n",
              "\n",
              "<svg xmlns=\"http://www.w3.org/2000/svg\" height=\"24px\"viewBox=\"0 0 24 24\"\n",
              "     width=\"24px\">\n",
              "    <g>\n",
              "        <path d=\"M19 3H5c-1.1 0-2 .9-2 2v14c0 1.1.9 2 2 2h14c1.1 0 2-.9 2-2V5c0-1.1-.9-2-2-2zM9 17H7v-7h2v7zm4 0h-2V7h2v10zm4 0h-2v-4h2v4z\"/>\n",
              "    </g>\n",
              "</svg>\n",
              "  </button>\n",
              "\n",
              "<style>\n",
              "  .colab-df-quickchart {\n",
              "      --bg-color: #E8F0FE;\n",
              "      --fill-color: #1967D2;\n",
              "      --hover-bg-color: #E2EBFA;\n",
              "      --hover-fill-color: #174EA6;\n",
              "      --disabled-fill-color: #AAA;\n",
              "      --disabled-bg-color: #DDD;\n",
              "  }\n",
              "\n",
              "  [theme=dark] .colab-df-quickchart {\n",
              "      --bg-color: #3B4455;\n",
              "      --fill-color: #D2E3FC;\n",
              "      --hover-bg-color: #434B5C;\n",
              "      --hover-fill-color: #FFFFFF;\n",
              "      --disabled-bg-color: #3B4455;\n",
              "      --disabled-fill-color: #666;\n",
              "  }\n",
              "\n",
              "  .colab-df-quickchart {\n",
              "    background-color: var(--bg-color);\n",
              "    border: none;\n",
              "    border-radius: 50%;\n",
              "    cursor: pointer;\n",
              "    display: none;\n",
              "    fill: var(--fill-color);\n",
              "    height: 32px;\n",
              "    padding: 0;\n",
              "    width: 32px;\n",
              "  }\n",
              "\n",
              "  .colab-df-quickchart:hover {\n",
              "    background-color: var(--hover-bg-color);\n",
              "    box-shadow: 0 1px 2px rgba(60, 64, 67, 0.3), 0 1px 3px 1px rgba(60, 64, 67, 0.15);\n",
              "    fill: var(--button-hover-fill-color);\n",
              "  }\n",
              "\n",
              "  .colab-df-quickchart-complete:disabled,\n",
              "  .colab-df-quickchart-complete:disabled:hover {\n",
              "    background-color: var(--disabled-bg-color);\n",
              "    fill: var(--disabled-fill-color);\n",
              "    box-shadow: none;\n",
              "  }\n",
              "\n",
              "  .colab-df-spinner {\n",
              "    border: 2px solid var(--fill-color);\n",
              "    border-color: transparent;\n",
              "    border-bottom-color: var(--fill-color);\n",
              "    animation:\n",
              "      spin 1s steps(1) infinite;\n",
              "  }\n",
              "\n",
              "  @keyframes spin {\n",
              "    0% {\n",
              "      border-color: transparent;\n",
              "      border-bottom-color: var(--fill-color);\n",
              "      border-left-color: var(--fill-color);\n",
              "    }\n",
              "    20% {\n",
              "      border-color: transparent;\n",
              "      border-left-color: var(--fill-color);\n",
              "      border-top-color: var(--fill-color);\n",
              "    }\n",
              "    30% {\n",
              "      border-color: transparent;\n",
              "      border-left-color: var(--fill-color);\n",
              "      border-top-color: var(--fill-color);\n",
              "      border-right-color: var(--fill-color);\n",
              "    }\n",
              "    40% {\n",
              "      border-color: transparent;\n",
              "      border-right-color: var(--fill-color);\n",
              "      border-top-color: var(--fill-color);\n",
              "    }\n",
              "    60% {\n",
              "      border-color: transparent;\n",
              "      border-right-color: var(--fill-color);\n",
              "    }\n",
              "    80% {\n",
              "      border-color: transparent;\n",
              "      border-right-color: var(--fill-color);\n",
              "      border-bottom-color: var(--fill-color);\n",
              "    }\n",
              "    90% {\n",
              "      border-color: transparent;\n",
              "      border-bottom-color: var(--fill-color);\n",
              "    }\n",
              "  }\n",
              "</style>\n",
              "\n",
              "  <script>\n",
              "    async function quickchart(key) {\n",
              "      const quickchartButtonEl =\n",
              "        document.querySelector('#' + key + ' button');\n",
              "      quickchartButtonEl.disabled = true;  // To prevent multiple clicks.\n",
              "      quickchartButtonEl.classList.add('colab-df-spinner');\n",
              "      try {\n",
              "        const charts = await google.colab.kernel.invokeFunction(\n",
              "            'suggestCharts', [key], {});\n",
              "      } catch (error) {\n",
              "        console.error('Error during call to suggestCharts:', error);\n",
              "      }\n",
              "      quickchartButtonEl.classList.remove('colab-df-spinner');\n",
              "      quickchartButtonEl.classList.add('colab-df-quickchart-complete');\n",
              "    }\n",
              "    (() => {\n",
              "      let quickchartButtonEl =\n",
              "        document.querySelector('#df-3efb054c-b3a5-4954-83ae-91e889c439d0 button');\n",
              "      quickchartButtonEl.style.display =\n",
              "        google.colab.kernel.accessAllowed ? 'block' : 'none';\n",
              "    })();\n",
              "  </script>\n",
              "</div>\n",
              "    </div>\n",
              "  </div>\n"
            ],
            "application/vnd.google.colaboratory.intrinsic+json": {
              "type": "dataframe",
              "summary": "{\n  \"name\": \"dataset\",\n  \"rows\": 8,\n  \"fields\": [\n    {\n      \"column\": \"score\",\n      \"properties\": {\n        \"dtype\": \"number\",\n        \"std\": 3579.8193047025065,\n        \"min\": 0.0,\n        \"max\": 10178.0,\n        \"num_unique_values\": 8,\n        \"samples\": [\n          63.49705246610336,\n          65.0,\n          10178.0\n        ],\n        \"semantic_type\": \"\",\n        \"description\": \"\"\n      }\n    },\n    {\n      \"column\": \"budget_x\",\n      \"properties\": {\n        \"dtype\": \"number\",\n        \"std\": 152191294.17381275,\n        \"min\": 1.0,\n        \"max\": 460000000.0,\n        \"num_unique_values\": 8,\n        \"samples\": [\n          64882378.890921585,\n          50000000.0,\n          10178.0\n        ],\n        \"semantic_type\": \"\",\n        \"description\": \"\"\n      }\n    },\n    {\n      \"column\": \"revenue\",\n      \"properties\": {\n        \"dtype\": \"number\",\n        \"std\": 988052458.9818947,\n        \"min\": 0.0,\n        \"max\": 2923706026.0,\n        \"num_unique_values\": 8,\n        \"samples\": [\n          253140093.41880527,\n          152934876.5,\n          10178.0\n        ],\n        \"semantic_type\": \"\",\n        \"description\": \"\"\n      }\n    }\n  ]\n}"
            }
          },
          "metadata": {},
          "execution_count": 368
        }
      ]
    },
    {
      "cell_type": "code",
      "source": [
        "for column in dataset.columns:\n",
        "    dtype = dataset[column].dtype\n",
        "    unique_values = dataset[column].nunique()\n",
        "\n",
        "    if dtype == 'object' or unique_values < 10:\n",
        "        print(f\"Column '{column}' is a categorical feature.\")"
      ],
      "metadata": {
        "colab": {
          "base_uri": "https://localhost:8080/"
        },
        "id": "XTC7JOz83OW3",
        "outputId": "4b48db81-e176-4146-efc1-c25f12a1215d"
      },
      "execution_count": null,
      "outputs": [
        {
          "output_type": "stream",
          "name": "stdout",
          "text": [
            "Column 'names' is a categorical feature.\n",
            "Column 'date_x' is a categorical feature.\n",
            "Column 'genre' is a categorical feature.\n",
            "Column 'overview' is a categorical feature.\n",
            "Column 'crew' is a categorical feature.\n",
            "Column 'orig_title' is a categorical feature.\n",
            "Column 'status' is a categorical feature.\n",
            "Column 'orig_lang' is a categorical feature.\n",
            "Column 'country' is a categorical feature.\n"
          ]
        }
      ]
    },
    {
      "cell_type": "code",
      "source": [
        "#Editing dataset\n",
        "column_to_make_null1 = 'overview'\n",
        "column_to_make_null2= 'orig_title'\n",
        "column_to_make_null3 = 'status'\n",
        "\n",
        "dataset[column_to_make_null1] = None\n",
        "dataset[column_to_make_null2] = None\n",
        "dataset[column_to_make_null3] = None\n",
        "\n",
        "dataset['date_x'] = pd.to_datetime(dataset['date_x'])\n",
        "dataset['month'] = dataset['date_x'].dt.month"
      ],
      "metadata": {
        "id": "xg--X6O43OZV"
      },
      "execution_count": null,
      "outputs": []
    },
    {
      "cell_type": "code",
      "source": [
        "#editing and encoding the label\n",
        "dataset.loc[dataset['score'] < 50, 'score'] = 0\n",
        "dataset.loc[dataset['score'] >= 50, 'score'] = 1"
      ],
      "metadata": {
        "id": "z087zPeB79k6"
      },
      "execution_count": null,
      "outputs": []
    },
    {
      "cell_type": "code",
      "source": [
        "dataset.info()"
      ],
      "metadata": {
        "colab": {
          "base_uri": "https://localhost:8080/"
        },
        "id": "tDR1feC3LCp0",
        "outputId": "c1560640-e389-4403-8f20-76ef567f7a2f"
      },
      "execution_count": null,
      "outputs": [
        {
          "output_type": "stream",
          "name": "stdout",
          "text": [
            "<class 'pandas.core.frame.DataFrame'>\n",
            "RangeIndex: 10178 entries, 0 to 10177\n",
            "Data columns (total 13 columns):\n",
            " #   Column      Non-Null Count  Dtype         \n",
            "---  ------      --------------  -----         \n",
            " 0   names       10178 non-null  object        \n",
            " 1   date_x      10178 non-null  datetime64[ns]\n",
            " 2   score       10178 non-null  float64       \n",
            " 3   genre       10093 non-null  object        \n",
            " 4   overview    0 non-null      object        \n",
            " 5   crew        10122 non-null  object        \n",
            " 6   orig_title  0 non-null      object        \n",
            " 7   status      0 non-null      object        \n",
            " 8   orig_lang   10178 non-null  object        \n",
            " 9   budget_x    10178 non-null  float64       \n",
            " 10  revenue     10178 non-null  float64       \n",
            " 11  country     10178 non-null  object        \n",
            " 12  month       10178 non-null  int32         \n",
            "dtypes: datetime64[ns](1), float64(3), int32(1), object(8)\n",
            "memory usage: 994.1+ KB\n"
          ]
        }
      ]
    },
    {
      "cell_type": "markdown",
      "source": [
        "# **Dataset Visualization**\n",
        "\n",
        "- Dataset biased or not\n",
        "- Histogram\n",
        "- Scatter Plot\n",
        "- Bar chart\n",
        "- etc."
      ],
      "metadata": {
        "id": "oShNSoGBWYUG"
      }
    },
    {
      "cell_type": "code",
      "source": [
        "import matplotlib.pyplot as plt\n",
        "import seaborn as sns"
      ],
      "metadata": {
        "id": "XYc2VQ02W1iL"
      },
      "execution_count": null,
      "outputs": []
    },
    {
      "cell_type": "code",
      "source": [
        "column_to_plot = 'score'\n",
        "value_counts = dataset[column_to_plot].value_counts()\n",
        "\n",
        "# Create a bar chart with explicit x ticks for 0 and 1\n",
        "plt.bar(value_counts.index, value_counts.values)\n",
        "plt.xlabel(column_to_plot)\n",
        "plt.ylabel('Frequency')\n",
        "plt.title(f'Bar Chart of {column_to_plot}')\n",
        "plt.xticks(value_counts.index)  # Set x ticks to be the values (0 and 1)\n",
        "plt.tight_layout()\n",
        "plt.show()\n"
      ],
      "metadata": {
        "colab": {
          "base_uri": "https://localhost:8080/",
          "height": 487
        },
        "id": "A0GsplIS7kfh",
        "outputId": "29e24502-56d5-49f0-b44d-afdabf18bd30"
      },
      "execution_count": null,
      "outputs": [
        {
          "output_type": "display_data",
          "data": {
            "text/plain": [
              "<Figure size 640x480 with 1 Axes>"
            ],
            "image/png": "[encoded data removed]"
          },
          "metadata": {}
        }
      ]
    },
    {
      "cell_type": "code",
      "source": [
        "print('Not balanced as the class 1 has been priorotized')"
      ],
      "metadata": {
        "colab": {
          "base_uri": "https://localhost:8080/"
        },
        "id": "dL3tb3TC7knH",
        "outputId": "b5b38685-bfbb-4ae3-d2e9-23fcd8a4ea3c"
      },
      "execution_count": null,
      "outputs": [
        {
          "output_type": "stream",
          "name": "stdout",
          "text": [
            "Not balanced as the class 1 has been priorotized\n"
          ]
        }
      ]
    },
    {
      "cell_type": "markdown",
      "source": [
        "***Feature Selection***\n",
        "\n",
        "\n",
        "\n",
        "\n"
      ],
      "metadata": {
        "id": "gZjQlWtLdwsY"
      }
    },
    {
      "cell_type": "code",
      "source": [
        "corr_matrix = dataset[['score','budget_x','revenue','month']].corr()"
      ],
      "metadata": {
        "id": "rH1G4e1Qd6mO"
      },
      "execution_count": null,
      "outputs": []
    },
    {
      "cell_type": "code",
      "source": [
        "sns.heatmap(corr_matrix, annot=True, cmap='coolwarm')\n",
        "plt.title('Correlation Heatmap')\n",
        "plt.show()"
      ],
      "metadata": {
        "colab": {
          "base_uri": "https://localhost:8080/",
          "height": 452
        },
        "id": "mrJ9Satod6oq",
        "outputId": "4a3cb1f8-8925-4d2d-fd9b-4b6ee47f59b8"
      },
      "execution_count": null,
      "outputs": [
        {
          "output_type": "display_data",
          "data": {
            "text/plain": [
              "<Figure size 640x480 with 2 Axes>"
            ],
            "image/png": "[encoded data removed]"
          },
          "metadata": {}
        }
      ]
    },
    {
      "cell_type": "code",
      "source": [
        "print('Dropping the Unneccssary columns')"
      ],
      "metadata": {
        "colab": {
          "base_uri": "https://localhost:8080/"
        },
        "id": "4iR1ZIQFd6rb",
        "outputId": "6756625a-3733-4c39-bf4c-5eb9cc7e36ac"
      },
      "execution_count": null,
      "outputs": [
        {
          "output_type": "stream",
          "name": "stdout",
          "text": [
            "Dropping the Unneccssary columns\n"
          ]
        }
      ]
    },
    {
      "cell_type": "code",
      "source": [
        "columns_to_drop = ['names', 'date_x','orig_title']\n",
        "df_dropped = dataset.drop(columns=columns_to_drop,inplace = True)"
      ],
      "metadata": {
        "id": "RDt5P5hdd6u_"
      },
      "execution_count": null,
      "outputs": []
    },
    {
      "cell_type": "markdown",
      "source": [
        "# **Dataset Pre-processing**\n",
        "\n",
        "- Null/NaN values handling\n",
        "\n",
        "    a) Delete Rows\n",
        "\n",
        "    b) Delete Columns\n",
        "\n",
        "    c) Impute Values\n",
        "\n",
        "- Encoding Categorical Features\n",
        "\n",
        "- Feature Scaling"
      ],
      "metadata": {
        "id": "gfo6iKenZASJ"
      }
    },
    {
      "cell_type": "code",
      "source": [
        "dataset.isnull().sum()"
      ],
      "metadata": {
        "id": "P0OEXvnFZhHc",
        "colab": {
          "base_uri": "https://localhost:8080/"
        },
        "outputId": "30e02c83-7303-4f3d-9bc3-3542715e06e8"
      },
      "execution_count": null,
      "outputs": [
        {
          "output_type": "execute_result",
          "data": {
            "text/plain": [
              "score            0\n",
              "genre           85\n",
              "overview     10178\n",
              "crew            56\n",
              "status       10178\n",
              "orig_lang        0\n",
              "budget_x         0\n",
              "revenue          0\n",
              "country          0\n",
              "month            0\n",
              "dtype: int64"
            ]
          },
          "metadata": {},
          "execution_count": 380
        }
      ]
    },
    {
      "cell_type": "code",
      "source": [
        "#dropping rows\n",
        "print('Dropping The rows of column with null values')\n",
        "dataset.dropna(subset=[\"crew\"],inplace = True,axis =0)"
      ],
      "metadata": {
        "id": "al7LLQVbdhJ5",
        "colab": {
          "base_uri": "https://localhost:8080/"
        },
        "outputId": "41619928-0eda-4f83-a4f6-c8bd067a99fb"
      },
      "execution_count": null,
      "outputs": [
        {
          "output_type": "stream",
          "name": "stdout",
          "text": [
            "Dropping The rows of column with null values\n"
          ]
        }
      ]
    },
    {
      "cell_type": "code",
      "source": [
        "#dropping columns\n",
        "print('Dropping The columns with null values')\n",
        "columns_to_drop = ['overview', 'status']\n",
        "df_dropped = dataset.drop(columns=columns_to_drop,inplace = True)"
      ],
      "metadata": {
        "colab": {
          "base_uri": "https://localhost:8080/"
        },
        "id": "1Fgi975F-5HM",
        "outputId": "17d254dd-2b54-4dd0-c02b-a7a86bf32aaf"
      },
      "execution_count": null,
      "outputs": [
        {
          "output_type": "stream",
          "name": "stdout",
          "text": [
            "Dropping The columns with null values\n"
          ]
        }
      ]
    },
    {
      "cell_type": "code",
      "source": [
        "#imputing values\n",
        "print('Imputing the values of Genre with the most frequent value')\n",
        "most_frequent_value = dataset['genre'].mode()[0]\n",
        "\n",
        "print(\"Most frequent value:\", most_frequent_value)\n",
        "from sklearn.impute import SimpleImputer\n",
        "\n",
        "constant_value = most_frequent_value\n",
        "imputer = SimpleImputer(strategy='constant', fill_value=constant_value)\n",
        "\n",
        "\n",
        "dataset[[\"genre\"]] = imputer.fit_transform(dataset[[\"genre\"]])"
      ],
      "metadata": {
        "colab": {
          "base_uri": "https://localhost:8080/"
        },
        "id": "H3493zbUdhOp",
        "outputId": "3bbd6467-793c-462f-b85f-0f0c37b7ce23"
      },
      "execution_count": null,
      "outputs": [
        {
          "output_type": "stream",
          "name": "stdout",
          "text": [
            "Imputing the values of Genre with the most frequent value\n",
            "Most frequent value: Drama\n"
          ]
        }
      ]
    },
    {
      "cell_type": "code",
      "source": [
        "#encoding\n",
        "from sklearn.preprocessing import LabelEncoder\n",
        "print('Encoding The Categorical Feature Country Using Label Encoding')\n",
        "le = LabelEncoder()\n",
        "dataset['country_encoded'] = le.fit_transform(dataset['country'])"
      ],
      "metadata": {
        "id": "4UjTjWYZdhTZ",
        "colab": {
          "base_uri": "https://localhost:8080/"
        },
        "outputId": "c2ffd544-a60a-4f63-afe3-f3c27711e771"
      },
      "execution_count": null,
      "outputs": [
        {
          "output_type": "stream",
          "name": "stdout",
          "text": [
            "Encoding The Categorical Feature Country Using Label Encoding\n"
          ]
        }
      ]
    },
    {
      "cell_type": "code",
      "source": [
        "print('Encoding the categorical feature genre Using one hot encoding')\n",
        "dataset['genre'] = dataset['genre'].str.split(',')\n",
        "\n",
        "unique_values = set(value for sublist in dataset['genre'] for value in sublist)\n",
        "\n",
        "\n",
        "\n",
        "for value in unique_values:\n",
        "    dataset[value] = dataset['genre'].apply(lambda x: 1 if value in x else 0)"
      ],
      "metadata": {
        "colab": {
          "base_uri": "https://localhost:8080/"
        },
        "id": "-n-7K2NaAZU8",
        "outputId": "cb439d21-0172-42f5-c3c3-6bd67f338edb"
      },
      "execution_count": null,
      "outputs": [
        {
          "output_type": "stream",
          "name": "stdout",
          "text": [
            "Encoding the categorical feature genre Using one hot encoding\n"
          ]
        }
      ]
    },
    {
      "cell_type": "code",
      "source": [
        "print('Encoding the categorical feature orig_lang Using one hot encoding')\n",
        "dataset['orig_lang'] = dataset['orig_lang'].str.split(',')\n",
        "\n",
        "unique_values = set(value for sublist in dataset['orig_lang'] for value in sublist)\n",
        "\n",
        "new_columns = []\n",
        "\n",
        "for value in unique_values:\n",
        "    new_column = dataset['orig_lang'].apply(lambda x: 1 if value in x else 0)\n",
        "    new_columns.append(new_column)\n",
        "\n",
        "dataset = pd.concat([dataset] + new_columns, axis=1)\n"
      ],
      "metadata": {
        "id": "UXZQa_JzBJeO",
        "colab": {
          "base_uri": "https://localhost:8080/"
        },
        "outputId": "c8122d1c-9ea1-4eb6-fcfa-7cde8706ac6f"
      },
      "execution_count": null,
      "outputs": [
        {
          "output_type": "stream",
          "name": "stdout",
          "text": [
            "Encoding the categorical feature orig_lang Using one hot encoding\n"
          ]
        }
      ]
    },
    {
      "cell_type": "code",
      "source": [
        "dataset.info()"
      ],
      "metadata": {
        "colab": {
          "base_uri": "https://localhost:8080/"
        },
        "id": "V-fYFOpqLKU2",
        "outputId": "f2953f5c-7cab-4d55-9632-0f93d7711ac5"
      },
      "execution_count": null,
      "outputs": [
        {
          "output_type": "stream",
          "name": "stdout",
          "text": [
            "<class 'pandas.core.frame.DataFrame'>\n",
            "Index: 10122 entries, 0 to 10177\n",
            "Columns: 105 entries, score to orig_lang\n",
            "dtypes: float64(3), int32(1), int64(97), object(4)\n",
            "memory usage: 8.1+ MB\n"
          ]
        }
      ]
    },
    {
      "cell_type": "code",
      "source": [
        "#dropping columns after preprocessing\n",
        "columns_to_drop = ['genre', 'orig_lang','country','crew']\n",
        "df_dropped = dataset.drop(columns=columns_to_drop,inplace = True)"
      ],
      "metadata": {
        "id": "gjlMT5t1mnbj"
      },
      "execution_count": null,
      "outputs": []
    },
    {
      "cell_type": "markdown",
      "source": [
        "# **Dataset Splitting**\n",
        "\n",
        "- Training Set\n",
        "\n",
        "- Testing Set"
      ],
      "metadata": {
        "id": "iQ9FZBYBZm-k"
      }
    },
    {
      "cell_type": "code",
      "source": [
        "#x and y definition\n",
        "target_column = 'score'\n",
        "feature_columns = [col for col in dataset.columns if col != target_column]\n",
        "Y = dataset[target_column]\n",
        "X= dataset[feature_columns]"
      ],
      "metadata": {
        "id": "xPO89XI-rjsy"
      },
      "execution_count": null,
      "outputs": []
    },
    {
      "cell_type": "code",
      "source": [
        "from imblearn.over_sampling import SMOTE\n",
        "\n",
        "# Instantiate the SMOTE object\n",
        "smote = SMOTE(random_state=42)\n",
        "\n",
        "# Fit and apply SMOTE to the dataset\n",
        "x, y = smote.fit_resample(X, Y)\n"
      ],
      "metadata": {
        "id": "ymrA5FmzIws2"
      },
      "execution_count": null,
      "outputs": []
    },
    {
      "cell_type": "code",
      "source": [
        "#shape after data balancing\n",
        "x.shape, y.shape"
      ],
      "metadata": {
        "colab": {
          "base_uri": "https://localhost:8080/"
        },
        "id": "7sPx4RWcMAmI",
        "outputId": "70566777-fb7d-49bd-d14f-bdf6f57ddf61"
      },
      "execution_count": null,
      "outputs": [
        {
          "output_type": "execute_result",
          "data": {
            "text/plain": [
              "((18672, 42), (18672,))"
            ]
          },
          "metadata": {},
          "execution_count": 391
        }
      ]
    },
    {
      "cell_type": "code",
      "source": [
        "#train test split\n",
        "from sklearn.model_selection import train_test_split\n",
        "x_train, x_test, y_train, y_test= train_test_split(x,y, test_size=0.2, random_state=0)"
      ],
      "metadata": {
        "id": "Uc-eQE_XIwza"
      },
      "execution_count": null,
      "outputs": []
    },
    {
      "cell_type": "code",
      "source": [
        "#shape of traing and testing data\n",
        "print(\"Training data shape:\", x_train.shape)\n",
        "print(\"Test data shape:\", x_test.shape)\n",
        "print(\"Training labels shape:\", y_train.shape)\n",
        "print(\"Test labels shape:\", y_test.shape)"
      ],
      "metadata": {
        "id": "wGWLH57DZt6U",
        "colab": {
          "base_uri": "https://localhost:8080/"
        },
        "outputId": "a24f12bd-9a02-415c-ac53-6b167f505bda"
      },
      "execution_count": null,
      "outputs": [
        {
          "output_type": "stream",
          "name": "stdout",
          "text": [
            "Training data shape: (14937, 42)\n",
            "Test data shape: (3735, 42)\n",
            "Training labels shape: (14937,)\n",
            "Test labels shape: (3735,)\n"
          ]
        }
      ]
    },
    {
      "cell_type": "code",
      "source": [
        "#dataset scaling\n",
        "from sklearn.preprocessing import MinMaxScaler\n",
        "scaler = MinMaxScaler()\n",
        "scaler = MinMaxScaler()\n",
        "scaler.fit(x_train)\n",
        "X_train_scaled=scaler.transform(x_train)\n",
        "X_test_scaled=scaler.transform(x_test)"
      ],
      "metadata": {
        "id": "T6MEnqg0CtWF"
      },
      "execution_count": null,
      "outputs": []
    },
    {
      "cell_type": "markdown",
      "source": [
        "# **Dataset Training**\n",
        "\n",
        "Classification Problem\n",
        "\n",
        "- SVM\n",
        "\n",
        "- Decision Tree\n",
        "\n",
        "- K-nearest Neighbors\n",
        "\n",
        "- Logistic Regression\n"
      ],
      "metadata": {
        "id": "SvtetSIvZvMS"
      }
    },
    {
      "cell_type": "markdown",
      "source": [
        "***Classification Problem***"
      ],
      "metadata": {
        "id": "9e2hbsIWs9q4"
      }
    },
    {
      "cell_type": "code",
      "source": [
        "from sklearn.metrics import accuracy_score\n",
        "from sklearn.metrics import classification_report"
      ],
      "metadata": {
        "id": "O_RwwP0BMSVQ"
      },
      "execution_count": null,
      "outputs": []
    },
    {
      "cell_type": "code",
      "source": [
        "#svm\n",
        "from sklearn import svm\n",
        "model = svm.SVC(kernel='linear')\n",
        "model.fit(X_train_scaled, y_train)\n",
        "y_pred = model.predict(X_test_scaled)\n",
        "accuracy = accuracy_score(y_test, y_pred)\n",
        "print(\"Accuracy:\", accuracy)\n",
        "print(classification_report(y_test, y_pred))"
      ],
      "metadata": {
        "id": "zimJt-dIavE7",
        "colab": {
          "base_uri": "https://localhost:8080/"
        },
        "outputId": "8d6cbae4-a444-4eaf-b0cf-6d1e0b8c31aa"
      },
      "execution_count": null,
      "outputs": [
        {
          "output_type": "stream",
          "name": "stdout",
          "text": [
            "Accuracy: 0.8942436412315931\n",
            "              precision    recall  f1-score   support\n",
            "\n",
            "         0.0       0.95      0.84      0.89      1911\n",
            "         1.0       0.85      0.95      0.90      1824\n",
            "\n",
            "    accuracy                           0.89      3735\n",
            "   macro avg       0.90      0.90      0.89      3735\n",
            "weighted avg       0.90      0.89      0.89      3735\n",
            "\n"
          ]
        }
      ]
    },
    {
      "cell_type": "code",
      "source": [
        "#decision tree\n",
        "from sklearn.tree import DecisionTreeClassifier\n",
        "clf = DecisionTreeClassifier(random_state=42)\n",
        "clf.fit(X_train_scaled, y_train)\n",
        "y_pred = clf.predict(X_test_scaled)\n",
        "accuracy = accuracy_score(y_test, y_pred)\n",
        "print(f\"Accuracy: {accuracy:.2f}\")\n",
        "print(classification_report(y_test, y_pred))"
      ],
      "metadata": {
        "colab": {
          "base_uri": "https://localhost:8080/"
        },
        "id": "RT-uZ7UYMhHk",
        "outputId": "a4e1f84e-7a29-4b88-9fbe-8f483aafccb0"
      },
      "execution_count": null,
      "outputs": [
        {
          "output_type": "stream",
          "name": "stdout",
          "text": [
            "Accuracy: 0.94\n",
            "              precision    recall  f1-score   support\n",
            "\n",
            "         0.0       0.93      0.96      0.94      1911\n",
            "         1.0       0.96      0.92      0.94      1824\n",
            "\n",
            "    accuracy                           0.94      3735\n",
            "   macro avg       0.94      0.94      0.94      3735\n",
            "weighted avg       0.94      0.94      0.94      3735\n",
            "\n"
          ]
        }
      ]
    },
    {
      "cell_type": "code",
      "source": [
        "#kth nearest neighbour\n",
        "from sklearn.neighbors import KNeighborsClassifier\n",
        "knn = KNeighborsClassifier(n_neighbors=2)\n",
        "knn.fit(X_train_scaled, y_train)\n",
        "y_pred = knn.predict(X_test_scaled)\n",
        "accuracy = accuracy_score(y_test, y_pred)\n",
        "print(f\"Accuracy: {accuracy:.2f}\")\n",
        "print(classification_report(y_test, y_pred))"
      ],
      "metadata": {
        "colab": {
          "base_uri": "https://localhost:8080/"
        },
        "id": "SatP9N_dMhJx",
        "outputId": "9b50b74b-99ad-4f23-c3a4-68514fe473fe"
      },
      "execution_count": null,
      "outputs": [
        {
          "output_type": "stream",
          "name": "stdout",
          "text": [
            "Accuracy: 0.91\n",
            "              precision    recall  f1-score   support\n",
            "\n",
            "         0.0       0.88      0.96      0.92      1911\n",
            "         1.0       0.95      0.86      0.90      1824\n",
            "\n",
            "    accuracy                           0.91      3735\n",
            "   macro avg       0.91      0.91      0.91      3735\n",
            "weighted avg       0.91      0.91      0.91      3735\n",
            "\n"
          ]
        }
      ]
    },
    {
      "cell_type": "code",
      "source": [
        "#logistic regression\n",
        "from sklearn.linear_model import LogisticRegression\n",
        "logreg = LogisticRegression()\n",
        "logreg.fit(X_train_scaled, y_train)\n",
        "y_pred = logreg.predict(X_test_scaled)\n",
        "accuracy = accuracy_score(y_test, y_pred)\n",
        "print(\"Accuracy:\", accuracy)\n",
        "print(classification_report(y_test, y_pred))"
      ],
      "metadata": {
        "colab": {
          "base_uri": "https://localhost:8080/"
        },
        "id": "zSQG2tluoBqq",
        "outputId": "c3a90093-5deb-4548-9cec-ee990544aa8f"
      },
      "execution_count": null,
      "outputs": [
        {
          "output_type": "stream",
          "name": "stdout",
          "text": [
            "Accuracy: 0.8955823293172691\n",
            "              precision    recall  f1-score   support\n",
            "\n",
            "         0.0       0.93      0.86      0.89      1911\n",
            "         1.0       0.87      0.93      0.90      1824\n",
            "\n",
            "    accuracy                           0.90      3735\n",
            "   macro avg       0.90      0.90      0.90      3735\n",
            "weighted avg       0.90      0.90      0.90      3735\n",
            "\n"
          ]
        }
      ]
    },
    {
      "cell_type": "markdown",
      "source": [
        "# **Result analysis of used models**\n",
        "\n",
        "\n"
      ],
      "metadata": {
        "id": "DQZdAE_Pa8NB"
      }
    },
    {
      "cell_type": "code",
      "source": [
        "#svm\n",
        "from sklearn.svm import SVC\n",
        "from sklearn.metrics import confusion_matrix\n",
        "\n",
        "svm_classifier = SVC(kernel='linear', random_state=42)\n",
        "svm_classifier.fit(X_train_scaled, y_train)\n",
        "y_pred = svm_classifier.predict(X_test_scaled)\n",
        "conf_matrix = confusion_matrix(y_test, y_pred)\n",
        "conf_matrix_percent = conf_matrix.astype('float') / conf_matrix.sum(axis=1)[:, np.newaxis]\n",
        "plt.figure(figsize=(10, 8))\n",
        "sns.heatmap(conf_matrix_percent, annot=True, cmap='Blues', fmt=\".2%\", cbar=False)\n",
        "plt.title(\"SVM - Confusion Matrix (%)\")\n",
        "plt.xlabel(\"Predicted Labels\")\n",
        "plt.ylabel(\"True Labels\")\n",
        "plt.show()\n"
      ],
      "metadata": {
        "colab": {
          "base_uri": "https://localhost:8080/",
          "height": 718
        },
        "id": "8-Lwj3YSTguE",
        "outputId": "0eba75ea-eed9-42fb-d303-623d3d9702e8"
      },
      "execution_count": null,
      "outputs": [
        {
          "output_type": "display_data",
          "data": {
            "text/plain": [
              "<Figure size 1000x800 with 1 Axes>"
            ],
            "image/png": "[encoded data removed]"
          },
          "metadata": {}
        }
      ]
    },
    {
      "cell_type": "code",
      "source": [
        "#decision tree\n",
        "import pandas as pd\n",
        "from sklearn.model_selection import train_test_split\n",
        "from sklearn.tree import DecisionTreeClassifier\n",
        "from sklearn.metrics import confusion_matrix\n",
        "import seaborn as sns\n",
        "import matplotlib.pyplot as plt\n",
        "import numpy as np\n",
        "\n",
        "decision_tree_classifier = DecisionTreeClassifier(random_state=42)\n",
        "decision_tree_classifier.fit(X_train_scaled, y_train)\n",
        "y_pred = decision_tree_classifier.predict(X_test_scaled)\n",
        "conf_matrix = confusion_matrix(y_test, y_pred)\n",
        "conf_matrix_percent = conf_matrix.astype('float') / conf_matrix.sum(axis=1)[:, np.newaxis]\n",
        "plt.figure(figsize=(10, 8))\n",
        "sns.heatmap(conf_matrix_percent, annot=True, cmap='Blues', fmt=\".2%\", cbar=False)\n",
        "plt.title(\"Decision Tree - Confusion Matrix (%)\")\n",
        "plt.xlabel(\"Predicted Labels\")\n",
        "plt.ylabel(\"True Labels\")\n",
        "plt.show()\n"
      ],
      "metadata": {
        "colab": {
          "base_uri": "https://localhost:8080/",
          "height": 718
        },
        "id": "Y2hs2dteTgwT",
        "outputId": "cabd07fd-a828-4247-8b00-8d4a866c79a4"
      },
      "execution_count": null,
      "outputs": [
        {
          "output_type": "display_data",
          "data": {
            "text/plain": [
              "<Figure size 1000x800 with 1 Axes>"
            ],
            "image/png": "[encoded data removed]"
          },
          "metadata": {}
        }
      ]
    },
    {
      "cell_type": "code",
      "source": [
        "#knn\n",
        "import pandas as pd\n",
        "from sklearn.model_selection import train_test_split\n",
        "from sklearn.neighbors import KNeighborsClassifier\n",
        "from sklearn.metrics import confusion_matrix\n",
        "import seaborn as sns\n",
        "import matplotlib.pyplot as plt\n",
        "import numpy as np\n",
        "\n",
        "knn_classifier = KNeighborsClassifier()\n",
        "knn_classifier.fit(X_train_scaled, y_train)\n",
        "y_pred = knn_classifier.predict(X_test_scaled)\n",
        "conf_matrix = confusion_matrix(y_test, y_pred)\n",
        "conf_matrix_percent = conf_matrix.astype('float') / conf_matrix.sum(axis=1)[:, np.newaxis]\n",
        "plt.figure(figsize=(10, 8))\n",
        "sns.heatmap(conf_matrix_percent, annot=True, cmap='Blues', fmt=\".2%\", cbar=False)\n",
        "plt.title(\"KNN - Confusion Matrix (%)\")\n",
        "plt.xlabel(\"Predicted Labels\")\n",
        "plt.ylabel(\"True Labels\")\n",
        "plt.show()\n"
      ],
      "metadata": {
        "colab": {
          "base_uri": "https://localhost:8080/",
          "height": 718
        },
        "id": "pHA7E7y9Tgy1",
        "outputId": "f8072864-c55e-493f-c1b9-73990f971f75"
      },
      "execution_count": null,
      "outputs": [
        {
          "output_type": "display_data",
          "data": {
            "text/plain": [
              "<Figure size 1000x800 with 1 Axes>"
            ],
            "image/png": "[encoded data removed]"
          },
          "metadata": {}
        }
      ]
    },
    {
      "cell_type": "code",
      "source": [
        "#logistic regression\n",
        "\n",
        "import pandas as pd\n",
        "from sklearn.model_selection import train_test_split\n",
        "from sklearn.linear_model import LogisticRegression\n",
        "from sklearn.metrics import confusion_matrix\n",
        "import seaborn as sns\n",
        "import matplotlib.pyplot as plt\n",
        "import numpy as np\n",
        "\n",
        "\n",
        "logreg = LogisticRegression()\n",
        "logreg.fit(X_train_scaled, y_train)\n",
        "y_pred = logreg.predict(X_test_scaled)\n",
        "conf_matrix = confusion_matrix(y_test, y_pred)\n",
        "conf_matrix_percent = conf_matrix.astype('float') / conf_matrix.sum(axis=1)[:, np.newaxis]\n",
        "plt.figure(figsize=(10, 8))\n",
        "sns.heatmap(conf_matrix_percent, annot=True, cmap='Blues', fmt=\".2%\", cbar=False)\n",
        "plt.title(\"Logistic Regression - Confusion Matrix (%)\")\n",
        "plt.xlabel(\"Predicted Labels\")\n",
        "plt.ylabel(\"True Labels\")\n",
        "plt.show()\n"
      ],
      "metadata": {
        "colab": {
          "base_uri": "https://localhost:8080/",
          "height": 718
        },
        "id": "XSmC7eeBhgy2",
        "outputId": "a145b195-fc01-4137-afad-52a0d930c860"
      },
      "execution_count": null,
      "outputs": [
        {
          "output_type": "display_data",
          "data": {
            "text/plain": [
              "<Figure size 1000x800 with 1 Axes>"
            ],
            "image/png": "[encoded data removed]"
          },
          "metadata": {}
        }
      ]
    },
    {
      "cell_type": "code",
      "source": [
        "import pandas as pd\n",
        "from sklearn.model_selection import train_test_split\n",
        "from sklearn.svm import SVC\n",
        "from sklearn.tree import DecisionTreeClassifier\n",
        "from sklearn.neighbors import KNeighborsClassifier\n",
        "from sklearn.linear_model import LogisticRegression\n",
        "from sklearn.metrics import accuracy_score\n",
        "import matplotlib.pyplot as plt\n",
        "\n",
        "svm_classifier = SVC(kernel='linear', random_state=42)\n",
        "decision_tree_classifier = DecisionTreeClassifier(random_state=42)\n",
        "knn_classifier = KNeighborsClassifier()\n",
        "logreg_classifier = LogisticRegression()\n",
        "\n",
        "svm_classifier.fit(X_train_scaled, y_train)\n",
        "decision_tree_classifier.fit(X_train_scaled, y_train)\n",
        "knn_classifier.fit(X_train_scaled, y_train)\n",
        "logreg_classifier.fit(X_train_scaled, y_train)\n",
        "\n",
        "y_pred_svm = svm_classifier.predict(X_test_scaled)\n",
        "y_pred_decision_tree = decision_tree_classifier.predict(X_test_scaled)\n",
        "y_pred_knn = knn_classifier.predict(X_test_scaled)\n",
        "y_pred_logreg = logreg_classifier.predict(X_test_scaled)\n",
        "\n",
        "svm_accuracy = accuracy_score(y_test, y_pred_svm)\n",
        "decision_tree_accuracy = accuracy_score(y_test, y_pred_decision_tree)\n",
        "knn_accuracy = accuracy_score(y_test, y_pred_knn)\n",
        "logreg_accuracy = accuracy_score(y_test, y_pred_logreg)\n",
        "\n",
        "models = ['SVM', 'Decision Tree', 'K-Nearest Neighbors', 'Logistic Regression']\n",
        "accuracy_scores = [svm_accuracy, decision_tree_accuracy, knn_accuracy, logreg_accuracy]\n",
        "\n",
        "accuracy_df = pd.DataFrame(accuracy_scores, columns=['Accuracy'], index=models)\n",
        "\n",
        "ax = accuracy_df.plot(kind='bar', figsize=(8, 6))\n",
        "plt.title(\"Model Comparison - Accuracy\")\n",
        "plt.ylabel(\"Accuracy\")\n",
        "plt.xticks(rotation=0)\n",
        "\n",
        "for p in ax.patches:\n",
        "    ax.annotate(f'{p.get_height():.2%}', (p.get_x() + p.get_width() / 2., p.get_height()),\n",
        "                ha='center', va='center', xytext=(0, 5), textcoords='offset points')\n",
        "\n",
        "ax.get_legend().remove()\n",
        "\n",
        "plt.show()\n"
      ],
      "metadata": {
        "colab": {
          "base_uri": "https://localhost:8080/",
          "height": 545
        },
        "id": "I6-UYL3gZBjl",
        "outputId": "2d294cd8-8095-46f4-8401-65c1f74aa77f"
      },
      "execution_count": null,
      "outputs": [
        {
          "output_type": "display_data",
          "data": {
            "text/plain": [
              "<Figure size 800x600 with 1 Axes>"
            ],
            "image/png": "[encoded data removed]"
          },
          "metadata": {}
        }
      ]
    },
    {
      "cell_type": "code",
      "source": [
        "import pandas as pd\n",
        "from sklearn.model_selection import train_test_split\n",
        "from sklearn.svm import SVC\n",
        "from sklearn.tree import DecisionTreeClassifier\n",
        "from sklearn.neighbors import KNeighborsClassifier\n",
        "from sklearn.linear_model import LogisticRegression\n",
        "from sklearn.metrics import accuracy_score, precision_score, recall_score, f1_score\n",
        "import matplotlib.pyplot as plt\n",
        "import matplotlib.ticker as mticker\n",
        "\n",
        "svm_classifier = SVC(kernel='linear', random_state=42)\n",
        "decision_tree_classifier = DecisionTreeClassifier(random_state=42)\n",
        "knn_classifier = KNeighborsClassifier()\n",
        "logreg_classifier = LogisticRegression()\n",
        "\n",
        "svm_classifier.fit(X_train_scaled, y_train)\n",
        "decision_tree_classifier.fit(X_train_scaled, y_train)\n",
        "knn_classifier.fit(X_train_scaled, y_train)\n",
        "logreg_classifier.fit(X_train_scaled, y_train)\n",
        "\n",
        "y_pred_svm = svm_classifier.predict(X_test_scaled)\n",
        "y_pred_decision_tree = decision_tree_classifier.predict(X_test_scaled)\n",
        "y_pred_knn = knn_classifier.predict(X_test_scaled)\n",
        "y_pred_logreg = logreg_classifier.predict(X_test_scaled)\n",
        "\n",
        "svm_metrics = [accuracy_score(y_test, y_pred_svm),\n",
        "               precision_score(y_test, y_pred_svm, average='macro'),\n",
        "               recall_score(y_test, y_pred_svm, average='macro'),\n",
        "               f1_score(y_test, y_pred_svm, average='macro')]\n",
        "\n",
        "decision_tree_metrics = [accuracy_score(y_test, y_pred_decision_tree),\n",
        "                         precision_score(y_test, y_pred_decision_tree, average='macro'),\n",
        "                         recall_score(y_test, y_pred_decision_tree, average='macro'),\n",
        "                         f1_score(y_test, y_pred_decision_tree, average='macro')]\n",
        "\n",
        "knn_metrics = [accuracy_score(y_test, y_pred_knn),\n",
        "               precision_score(y_test, y_pred_knn, average='macro'),\n",
        "               recall_score(y_test, y_pred_knn, average='macro'),\n",
        "               f1_score(y_test, y_pred_knn, average='macro')]\n",
        "\n",
        "logreg_metrics = [accuracy_score(y_test, y_pred_logreg),\n",
        "                  precision_score(y_test, y_pred_logreg, average='macro'),\n",
        "                  recall_score(y_test, y_pred_logreg, average='macro'),\n",
        "                  f1_score(y_test, y_pred_logreg, average='macro')]\n",
        "\n",
        "models = ['SVM', 'Decision Tree', 'K-Nearest Neighbors', 'Logistic Regression']\n",
        "metrics = ['Accuracy', 'Precision', 'Recall', 'F1-Score']\n",
        "data = [svm_metrics, decision_tree_metrics, knn_metrics, logreg_metrics]\n",
        "\n",
        "metrics_df = pd.DataFrame(data, columns=metrics, index=models)\n",
        "\n",
        "ax = metrics_df.plot(kind='bar', figsize=(12, 6), width=0.8)\n",
        "plt.title(\"Model Comparison\")\n",
        "plt.ylabel(\"Score\")\n",
        "plt.xticks(rotation=0)\n",
        "\n",
        "for p in ax.patches:\n",
        "    ax.annotate(f'{p.get_height():.2%}', (p.get_x() + p.get_width() / 2., p.get_height()),\n",
        "                ha='center', va='center', xytext=(0, 5), textcoords='offset points', fontsize=8)\n",
        "\n",
        "ax.yaxis.set_major_formatter(mticker.PercentFormatter(xmax=1, decimals=2))\n",
        "\n",
        "plt.show()\n"
      ],
      "metadata": {
        "colab": {
          "base_uri": "https://localhost:8080/",
          "height": 545
        },
        "id": "ck7pfYj8Tg2G",
        "outputId": "8bc49652-599e-4abd-aa2e-fa1c5319cf12"
      },
      "execution_count": null,
      "outputs": [
        {
          "output_type": "display_data",
          "data": {
            "text/plain": [
              "<Figure size 1200x600 with 1 Axes>"
            ],
            "image/png": "[encoded data removed]"
          },
          "metadata": {}
        }
      ]
    },
    {
      "cell_type": "markdown",
      "source": [
        "# **Summary of your project**"
      ],
      "metadata": {
        "id": "7uuKLwLHbC-p"
      }
    },
    {
      "cell_type": "markdown",
      "source": [
        "Initially, a thorough analysis of the dataset was conducted, during which certain modifications were made. A new column named \"month\" was extracted from the \"date_x\" column, solely containing the month information. Subsequently, the target variable, labeled as 'score', underwent encoding into 2 distinct values: 0 for scores ranging from 0 to 50, representing 'bad'; 1 for scores between 50 and 100, signifying 'good'. Moving forward, a bar chart was constructed to demonstrate the class distribution, revealing an imbalance in the classes and thereby indicating a biased dataset. Continuing with the analysis, a correlation heatmap was generated to visually interpret the relationships between features and labels. This heatmap served to identify which features had the most substantial influence on the respective labels or classes. To streamline the dataset, irrelevant columns such as 'names', 'date_x', and 'orig_title' were dropped, as they would not be utilized in the subsequent steps involving encoding or modeling. Transitioning into the preprocessing phase, attention was directed to handling missing values. Rows containing 56 null values in the \"crew\" column were removed. Additionally, rows with complete null values in columns such as 'overview', 'orig_title', and 'status' were dropped. Addressing the 85 null values in the \"genre\" column, the missing values were imputed with the most frequently occurring value. The \"country,\" \"genre,\" and \"orig_lang\" features underwent encoding using label encoding and ond hot encoding techniques. Following this, the dataset was divided into features and labels, and a balanced dataset was created through random sampling to address class imbalance. This balanced data was then split into training and testing sets, after which feature scaling was applied. Subsequently, four different classification models—SVM, Decision Tree, k-Nearest Neighbors, and Logistic Regression—were trained on the prepared data. Predictions were made using the test data for each model. Finally, a comprehensive comparison of model performances was carried out, evaluating their effectiveness in predicting the target label."
      ],
      "metadata": {
        "id": "jvsfau9eXXi1"
      }
    }
  ]
}